{
 "cells": [
  {
   "cell_type": "code",
   "execution_count": 7,
   "metadata": {},
   "outputs": [
    {
     "name": "stderr",
     "output_type": "stream",
     "text": [
      "<ipython-input-7-b54eb9bf59f7>:13: SettingWithCopyWarning: \n",
      "A value is trying to be set on a copy of a slice from a DataFrame.\n",
      "Try using .loc[row_indexer,col_indexer] = value instead\n",
      "\n",
      "See the caveats in the documentation: https://pandas.pydata.org/pandas-docs/stable/user_guide/indexing.html#returning-a-view-versus-a-copy\n",
      "  df[\"CPIAUCSL\"] = df[\"CPIAUCSL\"]/int(num)\n"
     ]
    }
   ],
   "source": [
    "import pandas as pd\n",
    "hf = pd.read_csv(\"../input/CPI.csv\")\n",
    "df = hf\n",
    "\n",
    "for x in df[\"DATE\"].unique():\n",
    "    if str(x).split(\"-\")[1]== '03':\n",
    "        df[\"DATE\"] = df[\"DATE\"].replace(x,x.split(\"-\")[0])\n",
    "    else:\n",
    "        df[\"DATE\"] = df[\"DATE\"].replace(x,0)\n",
    "df = df[(df['DATE'] != 0)]\n",
    "num = df[df[\"DATE\"]=='2000'][\"CPIAUCSL\"]\n",
    "\n",
    "df[\"CPIAUCSL\"] = df[\"CPIAUCSL\"]/int(num)\n",
    "\n",
    "df=df.rename(columns={\"DATE\":\"year\", \"CPIAUCSL\":\"real_cpis\"})\n"
   ]
  },
  {
   "cell_type": "code",
   "execution_count": 75,
   "metadata": {},
   "outputs": [],
   "source": [
    "df.to_csv(\"../output/revised_CPI.csv\")"
   ]
  }
 ],
 "metadata": {
  "kernelspec": {
   "display_name": "Python 3",
   "language": "python",
   "name": "python3"
  },
  "language_info": {
   "codemirror_mode": {
    "name": "ipython",
    "version": 3
   },
   "file_extension": ".py",
   "mimetype": "text/x-python",
   "name": "python",
   "nbconvert_exporter": "python",
   "pygments_lexer": "ipython3",
   "version": "3.8.3"
  }
 },
 "nbformat": 4,
 "nbformat_minor": 4
}
