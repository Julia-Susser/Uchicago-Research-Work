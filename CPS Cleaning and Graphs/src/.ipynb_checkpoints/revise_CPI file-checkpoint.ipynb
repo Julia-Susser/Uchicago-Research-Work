{
 "cells": [
  {
   "cell_type": "code",
   "execution_count": 9,
   "metadata": {},
   "outputs": [],
   "source": [
    "import pandas as pd\n",
    "df = pd.read_csv(\"../input/CPI.csv\")\n",
    "for x in df[\"DATE\"].unique():\n",
    "    if str(x).split(\"-\")[1]== '03':\n",
    "        df[\"DATE\"] = df[\"DATE\"].replace(x,x.split(\"-\")[0])\n",
    "    else:\n",
    "        df[\"DATE\"] = df[\"DATE\"].replace(x,0)\n",
    "df = df[(df['DATE'] != 0)].reset_index(drop=True)\n",
    "#df = pd.merge(df, CPI_df, on='year', how='right')\n",
    "nums = df.loc[df['DATE'] == '2000', [\"CPIAUCSL\"]]\n",
    "\n",
    "num = nums[\"CPIAUCSL\"].tolist()[0]\n",
    "df[\"real_cpis\"] = df[\"CPIAUCSL\"]/num\n",
    "df = df.drop(columns=['CPIAUCSL'])\n",
    "df=df.rename(columns={\"DATE\":\"year\"})"
   ]
  },
  {
   "cell_type": "code",
   "execution_count": 10,
   "metadata": {},
   "outputs": [],
   "source": [
    "df.to_csv(\"../input/revised_CPI.csv\")"
   ]
  },
  {
   "cell_type": "code",
   "execution_count": null,
   "metadata": {},
   "outputs": [],
   "source": []
  }
 ],
 "metadata": {
  "kernelspec": {
   "display_name": "Python 3",
   "language": "python",
   "name": "python3"
  },
  "language_info": {
   "codemirror_mode": {
    "name": "ipython",
    "version": 3
   },
   "file_extension": ".py",
   "mimetype": "text/x-python",
   "name": "python",
   "nbconvert_exporter": "python",
   "pygments_lexer": "ipython3",
   "version": "3.7.6"
  }
 },
 "nbformat": 4,
 "nbformat_minor": 4
}
