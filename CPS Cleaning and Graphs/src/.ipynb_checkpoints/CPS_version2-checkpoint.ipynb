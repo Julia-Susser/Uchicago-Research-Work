{
 "cells": [
  {
   "cell_type": "code",
   "execution_count": 340,
   "metadata": {},
   "outputs": [],
   "source": [
    "import numpy as np\n",
    "import pandas as pd\n",
    "\n",
    "#after testing replace StringIO(temp) to filename\n",
    "df = pd.read_csv(\"../input/cps_00054.csv\")"
   ]
  },
  {
   "cell_type": "code",
   "execution_count": 341,
   "metadata": {},
   "outputs": [],
   "source": [
    "# Sample Selection - HPV Sample C\n",
    "# --------------------------------\n",
    "\n",
    "df[\"YEAR\"] = df[\"year\".upper()] - 1 # survey questions ask about 'last year'\n",
    "\n",
    "# Prime age\n",
    "df = df[df[\"AGE\"]>=25] # Drop if if age < 25\n",
    "df = df[df[\"AGE\"]<=60] # drop if age > 60\n",
    "\n",
    "# Employed at firm\n",
    "df = df[ (df['CLASSWLY'] == 22) ]  # drop self-employed, government workers\n",
    "     \n",
    "# Drop if missing values    \n",
    "df = df.dropna(subset=[\"OCCLY\", \"IND90LY\", \"AGE\", 'CLASSWLY', 'RACE', 'INCWAGE', 'WKSWORK1', 'UHRSWORKLY', 'EDUC', \"YEAR\"])\n",
    "df = df.rename(columns={\"OCC90LY\":\"original\"})\n",
    "df = df[df[\"INCWAGE\"] < 99999998] # Topcoded income\n"
   ]
  },
  {
   "cell_type": "code",
   "execution_count": 309,
   "metadata": {},
   "outputs": [],
   "source": [
    "\n",
    "        \n",
    "df['YEAR_BINS'] = pd.cut(x=df['YEAR'], bins=[1979, 1981, 1990, 2001,2020], labels=[1970, 1980, 1990, 2000])\n",
    "\n",
    "df = df.dropna(subset=[\"YEAR_BINS\"])\n",
    "codes_by_year = pd.DataFrame()\n",
    "for x in df[\"YEAR_BINS\"].sort_values().unique():\n",
    "    hf = pd.read_stata(\"../../../3_Notes/deming_xwalk_occ/occ\"+str(x)+\"_occ1990dd.dta\")\n",
    "    hf = hf.rename(columns={\"occ1990dd\":\"OCC90LY\", \"occ\":\"OCCLY\", \"occ70\":\"OCCLY\", \"occ2010\":\"OCCLY\"})\n",
    "    hf[\"YEAR_BINS\"] = x\n",
    "    codes_by_year = codes_by_year.append(hf).reset_index(drop = True)\n",
    "\n",
    "cf = pd.merge(df,codes_by_year, on=['OCCLY','YEAR_BINS'], how='left', validate=\"m:1\")\n",
    "\n",
    "n =0\n",
    "#for x in cf[cf[\"OCC90LY\"].isnull()][\"OCCLY\"].unique():\n",
    "    #if str(x)[-3] ==\"0\":\n",
    "        #cf[\"OCCLY\"] = cf[\"OCCLY\"].replace(x, int(str(x)[:-3]))\n",
    "\n",
    "#cf = cf.drop(columns =['OCC90LY'])\n",
    "#cf = pd.merge(cf,codes_by_year, on=['OCCLY','YEAR_BINS'], how='left', validate=\"m:1\")"
   ]
  },
  {
   "cell_type": "code",
   "execution_count": 343,
   "metadata": {},
   "outputs": [
    {
     "name": "stderr",
     "output_type": "stream",
     "text": [
      "/Users/jsusser/opt/anaconda3/lib/python3.7/site-packages/ipykernel_launcher.py:12: SettingWithCopyWarning: \n",
      "A value is trying to be set on a copy of a slice from a DataFrame.\n",
      "Try using .loc[row_indexer,col_indexer] = value instead\n",
      "\n",
      "See the caveats in the documentation: http://pandas.pydata.org/pandas-docs/stable/indexing.html#indexing-view-versus-copy\n",
      "  if sys.path[0] == '':\n"
     ]
    }
   ],
   "source": [
    "\n",
    "        \n",
    "df['YEAR_BINS'] = pd.cut(x=df['YEAR'], bins=[1979, 1981, 1990, 2001, 2010,2020], labels=[1970, 1980, 1990, 2000,2010])\n",
    "kf = pd.DataFrame({})\n",
    "df = df.dropna(subset=[\"YEAR_BINS\"])\n",
    "grouped = df.groupby(\"YEAR_BINS\")\n",
    "codes_by_year = pd.DataFrame()\n",
    "for x in df[\"YEAR_BINS\"].sort_values().unique():\n",
    "    lf = grouped.get_group(x)\n",
    "    hf = pd.read_stata(\"../../../3_Notes/deming_xwalk_occ/occ\"+str(x)+\"_occ1990dd.dta\")\n",
    "    hf = hf.rename(columns={\"occ1990dd\":\"OCC90LY\", \"occ\":\"OCCLY\", \"occ70\":\"OCCLY\", \"occ2010\":\"OCCLY\"})\n",
    "    if x==2000:\n",
    "        for y in lf[\"OCCLY\"].unique():\n",
    "            lf[\"OCCLY\"] = lf[\"OCCLY\"].replace(y, int(str(y)[:-3]))\n",
    "    lf = pd.merge(lf,hf, on=['OCCLY'], how='left')\n",
    "    kf = kf.append(lf, ignore_index=True)\n",
    "\n"
   ]
  },
  {
   "cell_type": "code",
   "execution_count": 345,
   "metadata": {},
   "outputs": [],
   "source": [
    "kf.dropna(subset=[\"OCC90LY\"])\n",
    "df=kf\n"
   ]
  },
  {
   "cell_type": "code",
   "execution_count": 346,
   "metadata": {},
   "outputs": [],
   "source": [
    "# Variables\n",
    "# --------------------------------\n",
    "\n",
    "# Sex\n",
    "df[\"FEMALE\"] = df[\"SEX\"].replace(1, 0)\n",
    "df[\"FEMALE\"] = df[\"FEMALE\"].replace(2, 1)\n",
    "df[\"MALE\"] = df[\"SEX\"].replace(2  , 0)\n",
    "\n",
    "# Big firm has 1000+ employees (=9, 500-999 = 8)\n",
    "df[\"big_firm\"]  = df[\"firmsize\".upper()]\n",
    "for x in range(9):\n",
    "    df[\"big_firm\"] = df[\"big_firm\"].replace(x,0)\n",
    "\n",
    "df[\"big_firm\"] = df[\"big_firm\"].replace(9,1)\n",
    "df['big_firm'].fillna(0, inplace =True)\n",
    "\n",
    "# Race \n",
    "for x in df[\"RACE\"].unique():\n",
    "    if x == 100:\n",
    "        df[\"RACE\"] = df[\"RACE\"].replace(x,1)\n",
    "    else:\n",
    "        df[\"RACE\"] = df[\"RACE\"].replace(x,0)\n",
    "        \n",
    "        \n",
    "\n",
    "# Occupation\n",
    "df['2digit occupation'] = pd.cut(x=df['OCC90LY'], bins=[0,22, 37,200, 235,283,389,408,427,444,447,455,472,498,549,599,617,699,799,890], labels=[1,2,3,4,5,6,7,8,9,10,11,12,13,14,15,16,17,18,19], right=False)\n",
    "df[\"1digit occupation\"] = pd.cut(x=df[\"OCC90LY\"], bins=[0,199,389,472,498,699,889], labels=[1,2,3,4,5,6])\n",
    "\n",
    "# Industry\n",
    "df[\"1digit industry\"]   = pd.cut(x=df[\"IND90LY\"], bins=[0,200,391, 473, 498, 890,1000], labels=[2,3,4,5,1,6])\n",
    "\n",
    "# Education \n",
    "kf = pd.read_stata(\"../input/educ_years_school.dta\")\n",
    "\n",
    "if \"years_school\" in df:\n",
    "    df = df.drop(columns=[\"years_school\"])\n",
    "    \n",
    "educ_df = kf.rename(columns={\"educ\":\"EDUC\"})\n",
    "df = pd.merge(df, educ_df, on='EDUC', how='right') # merge in years of schooling\n",
    "df = df.rename(columns={\"years_school_y\":\"years_school\"})\n",
    "\n",
    "# Experience\n",
    "df[\"exp\"]  = (df[\"AGE\"] - np.maximum(df[\"years_school\"], 12)) - 6\n",
    "df[\"exp2\"] = (df[\"exp\"] ** 2 )\n",
    "df = df[df[\"exp\"] >= 0] \n",
    "\n",
    "# Hours\n",
    "df[\"annual_hours\"] = df[\"WKSWORK1\"] * df[\"UHRSWORKLY\"] \n",
    "df[\"annual_hours\"] = df[df[\"annual_hours\"]>=260] # drop if worked less than a month of 8hr days\n",
    "\n",
    "# Drop if report income, but no hours.\n",
    "indexNames = df[(df['INCWAGE'] > 0) & (df['annual_hours'] == 0)].index\n",
    "df.drop(indexNames , inplace=True)\n",
    "\n",
    "\n",
    "# Earnings\n",
    "df['inc_self'] = 0 # df['OINCBUS'] + df['OINCFARM']    \n",
    "df['earnings'] = (2/3) * df['inc_self'] + df['INCWAGE'] # 2/3 business income + labor income"
   ]
  },
  {
   "cell_type": "code",
   "execution_count": 347,
   "metadata": {},
   "outputs": [],
   "source": [
    "# Adjust for inflation\n",
    "# --------------------------------\n",
    "\n",
    "df = df.rename(columns={\"YEAR\":\"year\"})\n",
    "\n",
    "#Merge in cpi data\n",
    "cpi_df = pd.read_csv(\"../output/revised_CPI.csv\") \n",
    "df     = pd.merge(df, cpi_df, on='year', how='right')\n",
    "\n",
    "# Merge in fedminwage data\n",
    "fedminwage_df = pd.read_csv(\"../input/fedminwage.csv\") \n",
    "df = pd.merge(df, fedminwage_df, on='year', how='right') # real_cpis is cpi / cpi[2000]\n",
    "\n",
    "# Normalize to 2000-dollars\n",
    "df[\"earnings\"]   = df[\"earnings\"] / df[\"real_cpis\"]\n",
    "df[\"fedminwage\"] = df[\"fedminwage\"] / df[\"real_cpis\"]\n",
    "\n",
    "# Compute implied hourly wage\n",
    "df[\"Wage\"] = df[\"earnings\"] / df[\"annual_hours\"]\n",
    "\n",
    "# Drop if wage is less than 1/2 fedminwage\n",
    "df = df.query(\"fedminwage * .5 <= Wage\")# same thing: df[(df['Wage'] > df[\"fedminwage\"])]"
   ]
  },
  {
   "cell_type": "code",
   "execution_count": 348,
   "metadata": {},
   "outputs": [
    {
     "ename": "ValueError",
     "evalue": "Cannot convert non-finite values (NA or inf) to integer",
     "output_type": "error",
     "traceback": [
      "\u001b[0;31m---------------------------------------------------------------------------\u001b[0m",
      "\u001b[0;31mValueError\u001b[0m                                Traceback (most recent call last)",
      "\u001b[0;32m<ipython-input-348-f80dd958d436>\u001b[0m in \u001b[0;36m<module>\u001b[0;34m\u001b[0m\n\u001b[1;32m     11\u001b[0m \u001b[0mdf\u001b[0m \u001b[0;34m=\u001b[0m \u001b[0mdf\u001b[0m\u001b[0;34m.\u001b[0m\u001b[0mreset_index\u001b[0m\u001b[0;34m(\u001b[0m\u001b[0mdrop\u001b[0m\u001b[0;34m=\u001b[0m\u001b[0;32mTrue\u001b[0m\u001b[0;34m)\u001b[0m\u001b[0;34m\u001b[0m\u001b[0;34m\u001b[0m\u001b[0m\n\u001b[1;32m     12\u001b[0m \u001b[0;34m\u001b[0m\u001b[0m\n\u001b[0;32m---> 13\u001b[0;31m \u001b[0mdf\u001b[0m\u001b[0;34m[\u001b[0m\u001b[0mdf\u001b[0m\u001b[0;34m.\u001b[0m\u001b[0mcolumns\u001b[0m\u001b[0;34m[\u001b[0m\u001b[0;34m:\u001b[0m\u001b[0;34m-\u001b[0m\u001b[0;36m1\u001b[0m\u001b[0;34m]\u001b[0m\u001b[0;34m]\u001b[0m \u001b[0;34m=\u001b[0m \u001b[0mdf\u001b[0m\u001b[0;34m[\u001b[0m\u001b[0mdf\u001b[0m\u001b[0;34m.\u001b[0m\u001b[0mcolumns\u001b[0m\u001b[0;34m[\u001b[0m\u001b[0;34m:\u001b[0m\u001b[0;34m-\u001b[0m\u001b[0;36m1\u001b[0m\u001b[0;34m]\u001b[0m\u001b[0;34m]\u001b[0m\u001b[0;34m.\u001b[0m\u001b[0mastype\u001b[0m\u001b[0;34m(\u001b[0m\u001b[0;34m'int64'\u001b[0m\u001b[0;34m)\u001b[0m\u001b[0;34m\u001b[0m\u001b[0;34m\u001b[0m\u001b[0m\n\u001b[0m\u001b[1;32m     14\u001b[0m \u001b[0mdf\u001b[0m\u001b[0;34m[\u001b[0m\u001b[0;34m[\u001b[0m\u001b[0;34m\"Wage\"\u001b[0m\u001b[0;34m]\u001b[0m\u001b[0;34m]\u001b[0m \u001b[0;34m=\u001b[0m \u001b[0mdf\u001b[0m\u001b[0;34m[\u001b[0m\u001b[0;34m\"Wage\"\u001b[0m\u001b[0;34m]\u001b[0m\u001b[0;34m.\u001b[0m\u001b[0mastype\u001b[0m\u001b[0;34m(\u001b[0m\u001b[0;34m'float64'\u001b[0m\u001b[0;34m)\u001b[0m\u001b[0;34m\u001b[0m\u001b[0;34m\u001b[0m\u001b[0m\n\u001b[1;32m     15\u001b[0m \u001b[0mdf\u001b[0m\u001b[0;34m[\u001b[0m\u001b[0;34m\"Wage\"\u001b[0m\u001b[0;34m]\u001b[0m   \u001b[0;34m=\u001b[0m \u001b[0mdf\u001b[0m\u001b[0;34m[\u001b[0m\u001b[0;34m\"Wage\"\u001b[0m\u001b[0;34m]\u001b[0m\u001b[0;34m.\u001b[0m\u001b[0mround\u001b[0m\u001b[0;34m(\u001b[0m\u001b[0;36m2\u001b[0m\u001b[0;34m)\u001b[0m\u001b[0;34m\u001b[0m\u001b[0;34m\u001b[0m\u001b[0m\n",
      "\u001b[0;32m~/opt/anaconda3/lib/python3.7/site-packages/pandas/core/generic.py\u001b[0m in \u001b[0;36mastype\u001b[0;34m(self, dtype, copy, errors, **kwargs)\u001b[0m\n\u001b[1;32m   5689\u001b[0m             \u001b[0;31m# else, only a single dtype is given\u001b[0m\u001b[0;34m\u001b[0m\u001b[0;34m\u001b[0m\u001b[0;34m\u001b[0m\u001b[0m\n\u001b[1;32m   5690\u001b[0m             new_data = self._data.astype(dtype=dtype, copy=copy, errors=errors,\n\u001b[0;32m-> 5691\u001b[0;31m                                          **kwargs)\n\u001b[0m\u001b[1;32m   5692\u001b[0m             \u001b[0;32mreturn\u001b[0m \u001b[0mself\u001b[0m\u001b[0;34m.\u001b[0m\u001b[0m_constructor\u001b[0m\u001b[0;34m(\u001b[0m\u001b[0mnew_data\u001b[0m\u001b[0;34m)\u001b[0m\u001b[0;34m.\u001b[0m\u001b[0m__finalize__\u001b[0m\u001b[0;34m(\u001b[0m\u001b[0mself\u001b[0m\u001b[0;34m)\u001b[0m\u001b[0;34m\u001b[0m\u001b[0;34m\u001b[0m\u001b[0m\n\u001b[1;32m   5693\u001b[0m \u001b[0;34m\u001b[0m\u001b[0m\n",
      "\u001b[0;32m~/opt/anaconda3/lib/python3.7/site-packages/pandas/core/internals/managers.py\u001b[0m in \u001b[0;36mastype\u001b[0;34m(self, dtype, **kwargs)\u001b[0m\n\u001b[1;32m    529\u001b[0m \u001b[0;34m\u001b[0m\u001b[0m\n\u001b[1;32m    530\u001b[0m     \u001b[0;32mdef\u001b[0m \u001b[0mastype\u001b[0m\u001b[0;34m(\u001b[0m\u001b[0mself\u001b[0m\u001b[0;34m,\u001b[0m \u001b[0mdtype\u001b[0m\u001b[0;34m,\u001b[0m \u001b[0;34m**\u001b[0m\u001b[0mkwargs\u001b[0m\u001b[0;34m)\u001b[0m\u001b[0;34m:\u001b[0m\u001b[0;34m\u001b[0m\u001b[0;34m\u001b[0m\u001b[0m\n\u001b[0;32m--> 531\u001b[0;31m         \u001b[0;32mreturn\u001b[0m \u001b[0mself\u001b[0m\u001b[0;34m.\u001b[0m\u001b[0mapply\u001b[0m\u001b[0;34m(\u001b[0m\u001b[0;34m'astype'\u001b[0m\u001b[0;34m,\u001b[0m \u001b[0mdtype\u001b[0m\u001b[0;34m=\u001b[0m\u001b[0mdtype\u001b[0m\u001b[0;34m,\u001b[0m \u001b[0;34m**\u001b[0m\u001b[0mkwargs\u001b[0m\u001b[0;34m)\u001b[0m\u001b[0;34m\u001b[0m\u001b[0;34m\u001b[0m\u001b[0m\n\u001b[0m\u001b[1;32m    532\u001b[0m \u001b[0;34m\u001b[0m\u001b[0m\n\u001b[1;32m    533\u001b[0m     \u001b[0;32mdef\u001b[0m \u001b[0mconvert\u001b[0m\u001b[0;34m(\u001b[0m\u001b[0mself\u001b[0m\u001b[0;34m,\u001b[0m \u001b[0;34m**\u001b[0m\u001b[0mkwargs\u001b[0m\u001b[0;34m)\u001b[0m\u001b[0;34m:\u001b[0m\u001b[0;34m\u001b[0m\u001b[0;34m\u001b[0m\u001b[0m\n",
      "\u001b[0;32m~/opt/anaconda3/lib/python3.7/site-packages/pandas/core/internals/managers.py\u001b[0m in \u001b[0;36mapply\u001b[0;34m(self, f, axes, filter, do_integrity_check, consolidate, **kwargs)\u001b[0m\n\u001b[1;32m    393\u001b[0m                                             copy=align_copy)\n\u001b[1;32m    394\u001b[0m \u001b[0;34m\u001b[0m\u001b[0m\n\u001b[0;32m--> 395\u001b[0;31m             \u001b[0mapplied\u001b[0m \u001b[0;34m=\u001b[0m \u001b[0mgetattr\u001b[0m\u001b[0;34m(\u001b[0m\u001b[0mb\u001b[0m\u001b[0;34m,\u001b[0m \u001b[0mf\u001b[0m\u001b[0;34m)\u001b[0m\u001b[0;34m(\u001b[0m\u001b[0;34m**\u001b[0m\u001b[0mkwargs\u001b[0m\u001b[0;34m)\u001b[0m\u001b[0;34m\u001b[0m\u001b[0;34m\u001b[0m\u001b[0m\n\u001b[0m\u001b[1;32m    396\u001b[0m             \u001b[0mresult_blocks\u001b[0m \u001b[0;34m=\u001b[0m \u001b[0m_extend_blocks\u001b[0m\u001b[0;34m(\u001b[0m\u001b[0mapplied\u001b[0m\u001b[0;34m,\u001b[0m \u001b[0mresult_blocks\u001b[0m\u001b[0;34m)\u001b[0m\u001b[0;34m\u001b[0m\u001b[0;34m\u001b[0m\u001b[0m\n\u001b[1;32m    397\u001b[0m \u001b[0;34m\u001b[0m\u001b[0m\n",
      "\u001b[0;32m~/opt/anaconda3/lib/python3.7/site-packages/pandas/core/internals/blocks.py\u001b[0m in \u001b[0;36mastype\u001b[0;34m(self, dtype, copy, errors, values, **kwargs)\u001b[0m\n\u001b[1;32m    532\u001b[0m     \u001b[0;32mdef\u001b[0m \u001b[0mastype\u001b[0m\u001b[0;34m(\u001b[0m\u001b[0mself\u001b[0m\u001b[0;34m,\u001b[0m \u001b[0mdtype\u001b[0m\u001b[0;34m,\u001b[0m \u001b[0mcopy\u001b[0m\u001b[0;34m=\u001b[0m\u001b[0;32mFalse\u001b[0m\u001b[0;34m,\u001b[0m \u001b[0merrors\u001b[0m\u001b[0;34m=\u001b[0m\u001b[0;34m'raise'\u001b[0m\u001b[0;34m,\u001b[0m \u001b[0mvalues\u001b[0m\u001b[0;34m=\u001b[0m\u001b[0;32mNone\u001b[0m\u001b[0;34m,\u001b[0m \u001b[0;34m**\u001b[0m\u001b[0mkwargs\u001b[0m\u001b[0;34m)\u001b[0m\u001b[0;34m:\u001b[0m\u001b[0;34m\u001b[0m\u001b[0;34m\u001b[0m\u001b[0m\n\u001b[1;32m    533\u001b[0m         return self._astype(dtype, copy=copy, errors=errors, values=values,\n\u001b[0;32m--> 534\u001b[0;31m                             **kwargs)\n\u001b[0m\u001b[1;32m    535\u001b[0m \u001b[0;34m\u001b[0m\u001b[0m\n\u001b[1;32m    536\u001b[0m     def _astype(self, dtype, copy=False, errors='raise', values=None,\n",
      "\u001b[0;32m~/opt/anaconda3/lib/python3.7/site-packages/pandas/core/internals/blocks.py\u001b[0m in \u001b[0;36m_astype\u001b[0;34m(self, dtype, copy, errors, values, **kwargs)\u001b[0m\n\u001b[1;32m    631\u001b[0m \u001b[0;34m\u001b[0m\u001b[0m\n\u001b[1;32m    632\u001b[0m                     \u001b[0;31m# _astype_nansafe works fine with 1-d only\u001b[0m\u001b[0;34m\u001b[0m\u001b[0;34m\u001b[0m\u001b[0;34m\u001b[0m\u001b[0m\n\u001b[0;32m--> 633\u001b[0;31m                     \u001b[0mvalues\u001b[0m \u001b[0;34m=\u001b[0m \u001b[0mastype_nansafe\u001b[0m\u001b[0;34m(\u001b[0m\u001b[0mvalues\u001b[0m\u001b[0;34m.\u001b[0m\u001b[0mravel\u001b[0m\u001b[0;34m(\u001b[0m\u001b[0;34m)\u001b[0m\u001b[0;34m,\u001b[0m \u001b[0mdtype\u001b[0m\u001b[0;34m,\u001b[0m \u001b[0mcopy\u001b[0m\u001b[0;34m=\u001b[0m\u001b[0;32mTrue\u001b[0m\u001b[0;34m)\u001b[0m\u001b[0;34m\u001b[0m\u001b[0;34m\u001b[0m\u001b[0m\n\u001b[0m\u001b[1;32m    634\u001b[0m \u001b[0;34m\u001b[0m\u001b[0m\n\u001b[1;32m    635\u001b[0m                 \u001b[0;31m# TODO(extension)\u001b[0m\u001b[0;34m\u001b[0m\u001b[0;34m\u001b[0m\u001b[0;34m\u001b[0m\u001b[0m\n",
      "\u001b[0;32m~/opt/anaconda3/lib/python3.7/site-packages/pandas/core/dtypes/cast.py\u001b[0m in \u001b[0;36mastype_nansafe\u001b[0;34m(arr, dtype, copy, skipna)\u001b[0m\n\u001b[1;32m    674\u001b[0m \u001b[0;34m\u001b[0m\u001b[0m\n\u001b[1;32m    675\u001b[0m         \u001b[0;32mif\u001b[0m \u001b[0;32mnot\u001b[0m \u001b[0mnp\u001b[0m\u001b[0;34m.\u001b[0m\u001b[0misfinite\u001b[0m\u001b[0;34m(\u001b[0m\u001b[0marr\u001b[0m\u001b[0;34m)\u001b[0m\u001b[0;34m.\u001b[0m\u001b[0mall\u001b[0m\u001b[0;34m(\u001b[0m\u001b[0;34m)\u001b[0m\u001b[0;34m:\u001b[0m\u001b[0;34m\u001b[0m\u001b[0;34m\u001b[0m\u001b[0m\n\u001b[0;32m--> 676\u001b[0;31m             raise ValueError('Cannot convert non-finite values (NA or inf) to '\n\u001b[0m\u001b[1;32m    677\u001b[0m                              'integer')\n\u001b[1;32m    678\u001b[0m \u001b[0;34m\u001b[0m\u001b[0m\n",
      "\u001b[0;31mValueError\u001b[0m: Cannot convert non-finite values (NA or inf) to integer"
     ]
    }
   ],
   "source": [
    "# Clean up\n",
    "# --------------------------------\n",
    "df = df.rename(columns={'occ90ly'.upper(): \"3digit occupation\", \"RACE\":\"White\"})\n",
    "\n",
    "k = {}\n",
    "for x in df.columns:\n",
    "    k[x] = x.capitalize()\n",
    "df = df.rename(columns=k)\n",
    "columnsTitles = ['Year', '3digit occupation', '2digit occupation', '1digit occupation', 'Age', 'Asecwt', 'Exp','Male', 'Female','White', 'Exp2','1digit industry', 'Big_firm', \"Wage\"]\n",
    "df = df.reindex(columns=columnsTitles)\n",
    "df = df.reset_index(drop=True)\n",
    "\n",
    "df[df.columns[:-1]] = df[df.columns[:-1]].astype('int64')\n",
    "df[[\"Wage\"]] = df[\"Wage\"].astype('float64')\n",
    "df[\"Wage\"]   = df[\"Wage\"].round(2)\n",
    "\n",
    "# Save\n",
    "df.to_csv(\"../output/current_values.csv\")"
   ]
  },
  {
   "cell_type": "code",
   "execution_count": null,
   "metadata": {},
   "outputs": [],
   "source": []
  },
  {
   "cell_type": "code",
   "execution_count": null,
   "metadata": {},
   "outputs": [],
   "source": []
  }
 ],
 "metadata": {
  "kernelspec": {
   "display_name": "Python 3",
   "language": "python",
   "name": "python3"
  },
  "language_info": {
   "codemirror_mode": {
    "name": "ipython",
    "version": 3
   },
   "file_extension": ".py",
   "mimetype": "text/x-python",
   "name": "python",
   "nbconvert_exporter": "python",
   "pygments_lexer": "ipython3",
   "version": "3.7.6"
  }
 },
 "nbformat": 4,
 "nbformat_minor": 4
}
