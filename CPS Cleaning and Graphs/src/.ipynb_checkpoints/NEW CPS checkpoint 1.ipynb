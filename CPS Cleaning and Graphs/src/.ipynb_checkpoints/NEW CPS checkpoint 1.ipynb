{
 "cells": [
  {
   "cell_type": "code",
   "execution_count": 238,
   "metadata": {},
   "outputs": [],
   "source": [
    "import pandas as pd\n",
    "\n",
    "#after testing replace StringIO(temp) to filename\n",
    "df = pd.read_csv(\"/Users/jsusser/Downloads/cps_00054.csv\"\n",
    ")"
   ]
  },
  {
   "cell_type": "code",
   "execution_count": 239,
   "metadata": {},
   "outputs": [],
   "source": [
    "#replace year = year - 1\n",
    "df[\"YEAR\"] = df[\"year\".upper()] -1\n",
    "# Drop if if age < 25\n",
    "df = df[df[\"AGE\"]>=25]\n",
    "# drop if age > 65\n",
    "df = df[df[\"AGE\"]<=65]\n",
    "# drop if self employed or work for the government using 'classwly'\n",
    "#https://cps.ipums.org/cps-action/variables/CLASSWLY#codes_section\n",
    "df = df[(df[\"CLASSWLY\"] != 10) & (df[\"CLASSWLY\"] != 13) & (df[\"CLASSWLY\"] != 14) & (df[\"CLASSWLY\"] != 24) & (df[\"CLASSWLY\"] != 25) & (df[\"CLASSWLY\"] != 27) & (df[\"CLASSWLY\"] != 18) & (df[\"CLASSWLY\"] != 29)]\n",
    "\n",
    "\n",
    "# drop if missing ind90ly drop if missing occ90ly\n",
    "df = df.dropna(subset=[\"OCC90LY\", \"IND90LY\", \"AGE\"])\n",
    "#drop if occupation is 991,999,995\n",
    "df = df[(df['OCC90LY'] != 991) & (df['OCC90LY'] != 999) & (df['OCC90LY'] != 995) ]  \n"
   ]
  },
  {
   "cell_type": "code",
   "execution_count": 240,
   "metadata": {},
   "outputs": [],
   "source": [
    "#https://cps.ipums.org/cps-action/variables/SEX#codes_section\n",
    "df[\"FEMALE\"] = df[\"SEX\"].replace(1, 0)\n",
    "df[\"FEMALE\"] = df[\"FEMALE\"].replace(2, 1)\n",
    "df[\"MALE\"] = df[\"SEX\"].replace(2  , 0)"
   ]
  },
  {
   "cell_type": "code",
   "execution_count": 241,
   "metadata": {},
   "outputs": [],
   "source": [
    "df[\"big_firm\"]  = df[\"firmsize\".upper()]\n",
    "for x in range(9):\n",
    "    df[\"big_firm\"] = df[\"big_firm\"].replace(x,0)\n",
    "df[\"big_firm\"] = df[\"big_firm\"].replace(9,1)\n",
    "df['big_firm'].fillna(0, inplace =True)"
   ]
  },
  {
   "cell_type": "code",
   "execution_count": 242,
   "metadata": {},
   "outputs": [],
   "source": [
    "for x in df[\"RACE\"].unique():\n",
    "    if x == \"white\":\n",
    "        df[\"RACE\"] = df[\"RACE\"].replace(x,1)\n",
    "    else:\n",
    "        df[\"RACE\"] = df[\"RACE\"].replace(x,0)"
   ]
  },
  {
   "cell_type": "code",
   "execution_count": 243,
   "metadata": {},
   "outputs": [],
   "source": [
    "df['2digit occupation'] = pd.cut(x=df['OCC90LY'], bins=[0, 43, 203, 213, 290, 303, 405, 415, 434, 473, 479, 503, 558, 703, 803, 823, 905], labels=[3, 43, 203, 213, 290, 303, 405, 415, 434, 473, 479, 503, 558, 703, 803, 823], right=False)\n",
    "df[\"1digit occupation\"] = pd.cut(x=df[\"OCC90LY\"], bins=[0, 200, 400, 470, 500, 700, 900,998], labels=[2,3,4,5,1,7,6])\n",
    "df[\"1digit industry\"] = pd.cut(x=df[\"IND90LY\"], bins=[0,200,391, 473, 498, 890,1000], labels=[2,3,4,5,1,6])"
   ]
  },
  {
   "cell_type": "code",
   "execution_count": 244,
   "metadata": {},
   "outputs": [],
   "source": [
    "kf = pd.read_stata(\"./educ_years_school.dta\")\n",
    "if \"years_school\" in df:\n",
    "    df = df.drop(columns=[\"years_school\"])\n",
    "kf = kf.rename(columns={\"educ\":\"EDUC\"})\n",
    "df = pd.merge(df, kf, on='EDUC', how='right')\n",
    "df = df.rename(columns={\"years_school_y\":\"years_school\"})\n",
    "df.loc[df['years_school'] < 12, 'years_school'] = 12\n",
    "df[\"Expierience\"] = (df[\"AGE\"]-df[\"years_school\"])-6\n",
    "df[\"Expierience^2\"] = (df[\"Expierience\"] ** 2 )\n",
    "df = df[df[\"Expierience\"]>=0]"
   ]
  },
  {
   "cell_type": "code",
   "execution_count": 245,
   "metadata": {},
   "outputs": [],
   "source": [
    "df = df.rename(columns={\"YEAR\":\"year\"})\n",
    "#Merge in cpi data\n",
    "hf = pd.read_csv(\"./revised_CPI.csv\")\n",
    "df = pd.merge(df, hf, on='year', how='right')\n",
    "\n",
    "#earnings = incwage adjusted to cpi 2000\n",
    "df[\"earnings\"] = df[\"INCWAGE\"]/df[\"real_cpis\"]\n",
    "df = df[df[\"INCWAGE\"]<99999998]\n",
    "#annual_hours = 'wkswork1' * 'uhrsworkly' # weeks worked per year x hours per week\n",
    "#drop if annual hours is <260\n",
    "df[\"annual_hours\"] = df[\"WKSWORK1\"] * df[\"UHRSWORKLY\"] \n",
    "df[\"annual_hours\"] = df[df[\"annual_hours\"]>=260]\n",
    "\n",
    "# Merge in fedminwage data\n",
    "fedminwage_df = pd.read_csv(\"/Users/jsusser/Dropbox//thesis/4_CPS/clean_HPV/input/fedminwage.csv\")\n",
    "df = pd.merge(df, fedminwage_df, on='year', how='right')\n",
    "\n",
    "#Adjust fedminwage to cpi 2000\n",
    "df[\"fedminwage\"] = df[\"fedminwage\"]/df[\"real_cpis\"]\n",
    "\n",
    "#1. Drop if below that years minimum wage. (you already have this, merge )\n",
    "\n",
    "df[\"Wage\"] = df[\"earnings\"]/df[\"annual_hours\"]\n",
    "df = df.query(\"fedminwage <= Wage\")\n",
    "\n",
    "#2. Divide earnings by cpi_t_adjusted_to_2000 \n",
    "\n",
    "#drop if incwage >0 and annual hours = 0\n",
    "indexNames = df[(df['INCWAGE'] > 0) & (df['annual_hours'] == 0)].index \n",
    "df.drop(indexNames , inplace=True)\n"
   ]
  },
  {
   "cell_type": "code",
   "execution_count": 247,
   "metadata": {},
   "outputs": [],
   "source": [
    "df = df.rename(columns={'occ90ly'.upper(): \"3digit occupation\", \"RACE\":\"White\"})\n",
    "\n",
    "k = {}\n",
    "for x in df.columns:\n",
    "    k[x] = x.capitalize()\n",
    "df = df.rename(columns=k)\n",
    "columnsTitles = ['Year', '3digit occupation', '2digit occupation', '1digit occupation', 'Age', 'Asecwth', 'Expierience','Male', 'Female','White', 'Expierience^2','1digit industry', 'Big_firm', \"Wage\"]\n",
    "df = df.reindex(columns=columnsTitles)\n",
    "df = df.reset_index(drop=True)\n"
   ]
  },
  {
   "cell_type": "code",
   "execution_count": 251,
   "metadata": {},
   "outputs": [],
   "source": [
    "df[df.columns[:-1]] = df[df.columns[:-1]].astype('int64')\n",
    "df[[\"Wage\"]] = df[\"Wage\"].astype('float64')\n",
    "df[\"Wage\"] = df[\"Wage\"].round(2)"
   ]
  },
  {
   "cell_type": "code",
   "execution_count": 252,
   "metadata": {},
   "outputs": [],
   "source": [
    "df.to_csv(\"current_values.csv\")"
   ]
  },
  {
   "cell_type": "code",
   "execution_count": 249,
   "metadata": {},
   "outputs": [
    {
     "name": "stdout",
     "output_type": "stream",
     "text": [
      "<class 'pandas.core.frame.DataFrame'>\n",
      "RangeIndex: 2096656 entries, 0 to 2096655\n",
      "Data columns (total 14 columns):\n",
      "Year                 float64\n",
      "3digit occupation    float64\n",
      "2digit occupation    category\n",
      "1digit occupation    category\n",
      "Age                  float64\n",
      "Asecwth              float64\n",
      "Expierience          float64\n",
      "Male                 float64\n",
      "Female               float64\n",
      "White                float64\n",
      "Expierience^2        float64\n",
      "1digit industry      category\n",
      "Big_firm             float64\n",
      "Wage                 object\n",
      "dtypes: category(3), float64(10), object(1)\n",
      "memory usage: 182.0+ MB\n"
     ]
    }
   ],
   "source": []
  },
  {
   "cell_type": "code",
   "execution_count": null,
   "metadata": {},
   "outputs": [],
   "source": []
  }
 ],
 "metadata": {
  "kernelspec": {
   "display_name": "Python 3",
   "language": "python",
   "name": "python3"
  },
  "language_info": {
   "codemirror_mode": {
    "name": "ipython",
    "version": 3
   },
   "file_extension": ".py",
   "mimetype": "text/x-python",
   "name": "python",
   "nbconvert_exporter": "python",
   "pygments_lexer": "ipython3",
   "version": "3.7.6"
  }
 },
 "nbformat": 4,
 "nbformat_minor": 4
}
