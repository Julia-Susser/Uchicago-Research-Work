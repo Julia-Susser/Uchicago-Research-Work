{
 "cells": [
  {
   "cell_type": "code",
   "execution_count": 189,
   "metadata": {},
   "outputs": [],
   "source": [
    "import numpy as np\n",
    "import pandas as pd\n",
    "\n",
    "#after testing replace StringIO(temp) to filename\n",
    "df = pd.read_csv(\"../input/cps_00054.csv\")"
   ]
  },
  {
   "cell_type": "code",
   "execution_count": 190,
   "metadata": {},
   "outputs": [],
   "source": [
    "# Sample Selection - HPV Sample C\n",
    "# --------------------------------\n",
    "\n",
    "df[\"YEAR\"] = df[\"year\".upper()] - 1 # income questions ask about 'last year'\n",
    "df[\"AGE\"]  = df[\"AGE\".upper()]  - 1 # income questions ask about 'last year'\n",
    "\n",
    "# Prime age\n",
    "df = df[df[\"AGE\"]>=25] # Drop if if age < 25\n",
    "df = df[df[\"AGE\"]<=60] # drop if age > 60\n",
    "\n",
    "# Employed at firm\n",
    "df = df[ (df['CLASSWLY'] == 22) ]  # drop self-employed, government workers\n",
    "     \n",
    "# Drop if missing values    \n",
    "df = df.dropna(subset=[\"OCCLY\", \"IND90LY\", \"AGE\", 'CLASSWLY', 'RACE', 'INCWAGE', 'WKSWORK1', 'UHRSWORKLY', 'EDUC', \"YEAR\"])\n",
    "df = df.rename(columns={\"OCC90LY\":\"original\"})\n",
    "df = df[df[\"INCWAGE\"] < 99999998] # Topcoded income"
   ]
  },
  {
   "cell_type": "code",
   "execution_count": 191,
   "metadata": {},
   "outputs": [
    {
     "name": "stdout",
     "output_type": "stream",
     "text": [
      "Num. of OCC70 codes without occ1990dd =  22005\n",
      "Number of OCC70 codes with occ1990dd  =  242112\n",
      "--\n",
      "Num. of OCC80 codes without occ1990dd =  3099\n",
      "Number of OCC80 codes with occ1990dd  =  366948\n",
      "--\n",
      "Num. of OCC90 codes without occ1990dd =  62752\n",
      "Number of OCC90 codes with occ1990dd  =  446483\n",
      "--\n",
      "Num. of OCC00 codes without occ1990dd =  7331\n",
      "Number of OCC00 codes with occ1990dd  =  468947\n",
      "--\n"
     ]
    },
    {
     "data": {
      "text/plain": [
       "1982    16615\n",
       "1977    34153\n",
       "1976    34505\n",
       "1978    34710\n",
       "1995    37046\n",
       "1996    37835\n",
       "1997    38470\n",
       "1981    38577\n",
       "1983    38587\n",
       "1988    38952\n",
       "1998    39115\n",
       "1999    39802\n",
       "1991    40092\n",
       "1984    40270\n",
       "1985    40512\n",
       "1986    40735\n",
       "1993    41166\n",
       "1987    41286\n",
       "1979    41411\n",
       "1994    41762\n",
       "1980    42141\n",
       "1992    42764\n",
       "1989    43067\n",
       "1990    43447\n",
       "2010    50704\n",
       "2009    58872\n",
       "2006    59412\n",
       "2007    59417\n",
       "2005    59569\n",
       "2004    59793\n",
       "2008    59990\n",
       "2003    61190\n",
       "2001    64057\n",
       "2000    64466\n",
       "Name: YEAR, dtype: int64"
      ]
     },
     "execution_count": 191,
     "metadata": {},
     "output_type": "execute_result"
    }
   ],
   "source": [
    "# Separate by OCC Code system - AW attempt\n",
    "# https://cps.ipums.org/cps-action/variables/OCCLY#codes_section\n",
    "df70 = df[df['YEAR'].between(1976, 1982)] # extend three years because it seems to work fine.\n",
    "df80 = df[df['YEAR'].between(1983, 1991)]\n",
    "df90 = df[df['YEAR'].between(1992, 2002)]\n",
    "df00 = df[df['YEAR'].between(2003, 2010)]\n",
    "\n",
    "# Load xwalks from Deming\n",
    "xwalk70 = pd.read_stata(\"../../../3_Notes/deming_xwalk_occ/occ1970_occ1990dd.dta\")\n",
    "xwalk80 = pd.read_stata(\"../../../3_Notes/deming_xwalk_occ/occ1980_occ1990dd.dta\")\n",
    "xwalk90 = pd.read_stata(\"../../../3_Notes/deming_xwalk_occ/occ1990_occ1990dd.dta\")\n",
    "xwalk00 = pd.read_stata(\"../../../3_Notes/deming_xwalk_occ/occ2000_occ1990dd.dta\")\n",
    "xwalk70 = xwalk70.rename(columns={\"occ70\":\"OCCLY\",\"occ\":\"OCCLY\"})\n",
    "xwalk80 = xwalk80.rename(columns={\"occ70\":\"OCCLY\",\"occ\":\"OCCLY\"})\n",
    "xwalk90 = xwalk90.rename(columns={\"occ70\":\"OCCLY\",\"occ\":\"OCCLY\"})\n",
    "xwalk00 = xwalk00.rename(columns={\"occ70\":\"OCCLY\",\"occ\":\"OCCLY\"})\n",
    "# Adjust so merges with CPS\n",
    "xwalk00['OCCLY'] = xwalk00['OCCLY'] * 10\n",
    "\n",
    "# merge in occ1990dd\n",
    "df70 = pd.merge(df70,xwalk70, on='OCCLY', validate=\"m:1\",how='left')\n",
    "print(\"Num. of OCC70 codes without occ1990dd = \", np.sum(df70['occ1990dd'].isnull()))\n",
    "print(\"Number of OCC70 codes with occ1990dd  = \", np.sum(df70['occ1990dd'].notnull()))\n",
    "print(\"--\")\n",
    "\n",
    "df80 = pd.merge(df80,xwalk80, on='OCCLY', validate=\"m:1\",how='left')\n",
    "print(\"Num. of OCC80 codes without occ1990dd = \", np.sum(df80['occ1990dd'].isnull()))\n",
    "print(\"Number of OCC80 codes with occ1990dd  = \", np.sum(df80['occ1990dd'].notnull()))\n",
    "print(\"--\")\n",
    "\n",
    "df90 = pd.merge(df90,xwalk90, on='OCCLY', validate=\"m:1\",how='left')\n",
    "print(\"Num. of OCC90 codes without occ1990dd = \", np.sum(df90['occ1990dd'].isnull()))\n",
    "print(\"Number of OCC90 codes with occ1990dd  = \", np.sum(df90['occ1990dd'].notnull()))\n",
    "print(\"--\")\n",
    "\n",
    "df00 = pd.merge(df00,xwalk00, on='OCCLY', validate=\"m:1\",how='left')\n",
    "print(\"Num. of OCC00 codes without occ1990dd = \", np.sum(df00['occ1990dd'].isnull()))\n",
    "print(\"Number of OCC00 codes with occ1990dd  = \", np.sum(df00['occ1990dd'].notnull()))\n",
    "print(\"--\")\n",
    "\n",
    "# Check those occupation codes which do not merge with occ1990dd\n",
    "df70['OCCLY'][df70['occ1990dd'].isnull()].value_counts() # These codes do note appear in the CPS list\n",
    "df80['OCCLY'][df80['occ1990dd'].isnull()].value_counts() # These codes do note appear in the CPS list\n",
    "df90['OCCLY'][df90['occ1990dd'].isnull()].value_counts() # These codes do note appear in the CPS list\n",
    "df00['OCCLY'][df00['occ1990dd'].isnull()].sort_values().value_counts() # These codes do note appear in the CPS list\n",
    "\n",
    "cf = pd.DataFrame()\n",
    "# Append the dataframes back together\n",
    "cf = cf.append(df70,ignore_index=True)\n",
    "cf = cf.append(df80,ignore_index=True)\n",
    "cf = cf.append(df90,ignore_index=True)\n",
    "cf = cf.append(df00,ignore_index=True)\n",
    "\n",
    "cf = cf[cf['occ1990dd'].notnull()]# drop if missing occ1990dd\n",
    "cf['YEAR'].value_counts().sort_values()\n",
    "\n"
   ]
  },
  {
   "cell_type": "code",
   "execution_count": 192,
   "metadata": {},
   "outputs": [],
   "source": [
    "\n",
    "\n",
    "df=cf\n",
    "df=df[df[\"occ1990dd\"].notnull()]\n"
   ]
  },
  {
   "cell_type": "code",
   "execution_count": 193,
   "metadata": {},
   "outputs": [],
   "source": [
    "# Variables\n",
    "# --------------------------------\n",
    "\n",
    "# Sex\n",
    "df[\"FEMALE\"] = df[\"SEX\"].replace(1, 0)\n",
    "df[\"FEMALE\"] = df[\"FEMALE\"].replace(2, 1)\n",
    "df[\"MALE\"] = df[\"SEX\"].replace(2  , 0)\n",
    "\n",
    "# Big firm has 1000+ employees (=9, 500-999 = 8)\n",
    "df[\"big_firm\"]  = df[\"firmsize\".upper()]\n",
    "for x in range(9):\n",
    "    df[\"big_firm\"] = df[\"big_firm\"].replace(x,0)\n",
    "\n",
    "df[\"big_firm\"] = df[\"big_firm\"].replace(9,1)\n",
    "df['big_firm'].fillna(0, inplace =True)\n",
    "\n",
    "# Race \n",
    "for x in df[\"RACE\"].unique():\n",
    "    if x == 100:\n",
    "        df[\"RACE\"] = df[\"RACE\"].replace(x,1)\n",
    "    else:\n",
    "        df[\"RACE\"] = df[\"RACE\"].replace(x,0)\n",
    "        \n",
    "        \n",
    "\n",
    "# Occupation\n",
    "df['2digit occupation'] = pd.cut(x=df['occ1990dd'], bins=[0,22, 37,200, 235,283,389,408,427,444,447,455,472,498,549,599,617,699,799,890], labels=[1,2,3,4,5,6,7,8,9,10,11,12,13,14,15,16,17,18,19], right=False)\n",
    "df[\"1digit occupation\"] = pd.cut(x=df[\"occ1990dd\"], bins=[0,199,389,472,498,699,889], labels=[1,2,3,4,5,6])\n",
    "# Industry\n",
    "df[\"1digit industry\"]   = pd.cut(x=df[\"IND90LY\"], bins=[0,200,391, 473, 498, 890,1000], labels=[2,3,4,5,1,6])\n",
    "\n",
    "# Education \n",
    "kf = pd.read_stata(\"../input/educ_years_school.dta\")\n",
    "\n",
    "if \"years_school\" in df:\n",
    "    df = df.drop(columns=[\"years_school\"])\n",
    "    \n",
    "educ_df = kf.rename(columns={\"educ\":\"EDUC\"})\n",
    "df = pd.merge(df, educ_df, on='EDUC', how='right') # merge in years of schooling\n",
    "df = df.rename(columns={\"years_school_y\":\"years_school\"})\n",
    "\n",
    "# Experience\n",
    "df[\"exp\"]  = (df[\"AGE\"] - np.maximum(df[\"years_school\"], 12)) - 6\n",
    "df[\"exp2\"] = (df[\"exp\"] ** 2 )\n",
    "df = df[df[\"exp\"] >= 0] \n",
    "\n",
    "# Hours\n",
    "df[\"annual_hours\"] = df[\"WKSWORK1\"] * df[\"UHRSWORKLY\"] \n",
    "df[\"annual_hours\"] = df[df[\"annual_hours\"]>=260] # drop if worked less than a month of 8hr days\n",
    "\n",
    "# Drop if report income, but no hours.\n",
    "indexNames = df[(df['INCWAGE'] > 0) & (df['annual_hours'] == 0)].index\n",
    "df.drop(indexNames , inplace=True)\n",
    "\n",
    "\n",
    "# Earnings\n",
    "df['inc_self'] = 0 # df['OINCBUS'] + df['OINCFARM']    \n",
    "df['earnings'] = (2/3) * df['inc_self'] + df['INCWAGE'] # 2/3 business income + labor income"
   ]
  },
  {
   "cell_type": "code",
   "execution_count": 194,
   "metadata": {},
   "outputs": [],
   "source": [
    "# Adjust for inflation\n",
    "# --------------------------------\n",
    "\n",
    "df = df.rename(columns={\"YEAR\":\"year\"})\n",
    "\n",
    "#Merge in cpi data\n",
    "cpi_df = pd.read_csv(\"../output/revised_CPI.csv\") \n",
    "df     = pd.merge(df, cpi_df, on='year', how='right')\n",
    "\n",
    "# Merge in fedminwage data\n",
    "fedminwage_df = pd.read_csv(\"../input/fedminwage.csv\") \n",
    "df = pd.merge(df, fedminwage_df, on='year', how='right') # real_cpis is cpi / cpi[2000]\n",
    "\n",
    "# Normalize to 2000-dollars\n",
    "df[\"earnings\"]   = df[\"earnings\"] / df[\"real_cpis\"]\n",
    "df[\"fedminwage\"] = df[\"fedminwage\"] / df[\"real_cpis\"]\n",
    "\n",
    "# Compute implied hourly wage\n",
    "df[\"Wage\"] = df[\"earnings\"] / df[\"annual_hours\"]\n",
    "\n",
    "# Drop if wage is less than 1/2 fedminwage\n",
    "df = df.query(\"fedminwage * .5 <= Wage\")# same thing: df[(df['Wage'] > df[\"fedminwage\"])]"
   ]
  },
  {
   "cell_type": "code",
   "execution_count": 197,
   "metadata": {},
   "outputs": [],
   "source": [
    "# Clean up\n",
    "# --------------------------------\n",
    "df = df.rename(columns={'occ1990dd': \"3digit occupation\", \"RACE\":\"White\"})\n",
    "\n",
    "k = {}\n",
    "for x in df.columns:\n",
    "    k[x] = x.capitalize()\n",
    "df = df.rename(columns=k)\n",
    "columnsTitles = ['Year', '3digit occupation', '2digit occupation', '1digit occupation', 'Age', 'Asecwt', 'Exp','Male', 'Female','White', 'Exp2','1digit industry', 'Big_firm', \"Wage\"]\n",
    "df = df.reindex(columns=columnsTitles)\n",
    "df = df.reset_index(drop=True)\n",
    "\n",
    "df[df.columns[:-1]] = df[df.columns[:-1]].astype('int64')\n",
    "df[[\"Wage\"]] = df[\"Wage\"].astype('float64')\n",
    "df[\"Wage\"]   = df[\"Wage\"].round(2)\n",
    "\n",
    "# Save\n",
    "df.to_csv(\"../output/current_values.csv\")"
   ]
  },
  {
   "cell_type": "code",
   "execution_count": 196,
   "metadata": {},
   "outputs": [
    {
     "data": {
      "text/plain": [
       "1400789"
      ]
     },
     "execution_count": 196,
     "metadata": {},
     "output_type": "execute_result"
    }
   ],
   "source": [
    "len(df)"
   ]
  },
  {
   "cell_type": "code",
   "execution_count": 136,
   "metadata": {},
   "outputs": [
    {
     "data": {
      "text/plain": [
       "1480489"
      ]
     },
     "execution_count": 136,
     "metadata": {},
     "output_type": "execute_result"
    }
   ],
   "source": [
    "len(df)"
   ]
  },
  {
   "cell_type": "code",
   "execution_count": null,
   "metadata": {},
   "outputs": [],
   "source": []
  }
 ],
 "metadata": {
  "kernelspec": {
   "display_name": "Python 3",
   "language": "python",
   "name": "python3"
  },
  "language_info": {
   "codemirror_mode": {
    "name": "ipython",
    "version": 3
   },
   "file_extension": ".py",
   "mimetype": "text/x-python",
   "name": "python",
   "nbconvert_exporter": "python",
   "pygments_lexer": "ipython3",
   "version": "3.7.6"
  }
 },
 "nbformat": 4,
 "nbformat_minor": 4
}
