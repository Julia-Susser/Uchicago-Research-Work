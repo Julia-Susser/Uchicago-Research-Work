{
 "cells": [
  {
   "cell_type": "code",
   "execution_count": 20,
   "metadata": {},
   "outputs": [],
   "source": [
    "import pandas as pd\n",
    "three_digits_dict = {'3': 'legislators', '4': 'chief executives and public administrators', '7': 'financial managers', '8': 'human resources and labor relations managers', '13': 'managers and specialists in marketing, advertising, and public relations', '14': 'managers in education and related fields', '15': 'managers of medicine and health occupations', '16': 'postmasters and mail superintendents', '17': 'managers of food- serving and lodging establishments', '18': 'managers of properties and real estate', '19': 'funeral directors', '21': 'managers of service organizations', '22': 'managers and administrators', '23': 'accountants and auditors', '24': 'insurance underwriters', '25': 'other financial specialists', '26': 'management analysts', '27': 'personnel, hr, training, and labor relations specialists', '28': 'purchasing agents and buyers, of farm products', '29': 'buyers, wholesale and retail trade', '33': 'purchasing managers, agents and buyers, n.e.c.', '34': 'business and promotion agents', '35': 'construction inspectors', '36': 'inspectors and compliance officers, outside construction', '37': 'management support occupations', '43': 'architects', '44': 'aerospace engineer', '45': 'metallurgical and materials engineers, variously phrased', '47': 'petroleum, mining, and geological engineers', '48': 'chemical engineers', '53': 'civil engineers', '55': 'electrical engineer', '56': 'industrial engineers', '57': 'mechanical engineers', '59': 'not-elsewhereclassified engineers', '64': 'computer systems analysts and computer scientists', '65': 'operations and systems researchers and analysts', '66': 'actuaries', '67': 'statisticians', '68': 'mathematicians and mathematical scientists', '69': 'physicists and astronomers', '73': 'chemists', '74': 'atmospheric and space scientists', '75': 'geologists', '76': 'physical scientists, n.e.c.', '77': 'agricultural and food scientists', '78': 'biological scientists', '79': 'foresters and conservation scientists', '83': 'medical scientists', '84': 'physicians', '85': 'dentists', '86': 'veterinarians', '87': 'optometrists', '88': 'podiatrists', '89': 'other health and therapy', '95': 'registered nurses', '96': 'pharmacists', '97': 'dietitians and nutritionists', '98': 'respiratory therapists', '99': 'occupational therapists', '103': 'physical therapists', '104': 'speech therapists', '105': 'therapists, n.e.c.', '106': \"physicians' assistants\", '113': 'earth, environmental, and marine science instructors', '114': 'biological science instructors', '115': 'chemistry instructors', '116': 'physics instructors', '118': 'psychology instructors', '119': 'economics instructors', '123': 'history instructors', '125': 'sociology instructors', '127': 'engineering instructors', '128': 'math instructors', '139': 'education instructors', '145': 'law instructors', '147': 'theology instructors', '149': 'home economics instructors', '150': 'humanities profs/instructors, college, nec', '154': 'subject instructors (hs/college)', '155': 'kindergarten and earlier school teachers', '156': 'primary school teachers', '157': 'secondary school teachers', '158': 'special education teachers', '159': 'teachers , n.e.c.', '163': 'vocational and educational counselors', '164': 'librarians', '165': 'archivists and curators', '166': 'economists, market researchers, and survey researchers', '167': 'psychologists', '168': 'sociologists', '169': 'social scientists, n.e.c.', '173': 'urban and regional planners', '174': 'social workers', '175': 'recreation workers', '176': 'clergy and religious workers', '178': 'lawyers', '179': 'judges', '183': 'writers and authors', '184': 'technical writers', '185': 'designers', '186': 'musician or composer', '187': 'actors, directors, producers', '188': 'art makers; painters, sculptors, craft artists, and printmakers', '189': 'photographers', '193': 'dancers', '194': 'art/entertainment performers and related', '195': 'editors and reporters', '198': 'announcers', '199': 'athletes, sports instructors, and officials', '200': 'professionals, n.e.c.', '203': 'clinical laboratory technologies and technicians', '204': 'dental hygenists', '205': 'health record tech specialists', '206': 'radiologic tech specialists', '207': 'licensed practical nurses', '208': 'health technologists and technicians, n.e.c.', '213': 'electrical and electronic (engineering) technicians', '214': 'engineering technicians, n.e.c.', '215': 'mechanical engineering technicians', '217': 'drafters', '218': 'surveyors, cartographers, mapping scientists and technicians', '223': 'biological technicians', '224': 'chemical technicians', '225': 'other science technicians', '226': 'airplane pilots and navigators', '227': 'air traffic controllers', '228': 'broadcast equipment operators', '229': 'computer software developers', '233': 'programmers of numerically controlled machine tools', '234': 'legal assistants, paralegals, legal support, etc', '235': 'technicians, n.e.c.', '243': 'supervisors and proprietors of sales jobs', '253': 'insurance sales occupations', '254': 'real estate sales occupations', '255': 'financial services sales occupations', '256': 'advertising and related sales jobs', '258': 'sales engineers', '274': 'salespersons, n.e.c.', '275': 'retail sales clerks', '276': 'cashiers', '277': 'door-to-door sales, street sales, and news vendors', '283': 'sales demonstrators / promoters / models', '290': 'sales workers', '303': 'office supervisors', '308': 'computer and peripheral equipment operators', '313': 'secretaries', '314': 'stenographers', '315': 'typists', '316': 'interviewers, enumerators, and surveyors', '317': 'hotel clerks', '318': 'transportation ticket and reservation agents', '319': 'receptionists', '323': 'information clerks, nec', '326': 'correspondence and order clerks', '328': 'human resources clerks, except payroll and timekeeping', '329': 'library assistants', '335': 'file clerks', '336': 'records clerks', '337': 'bookkeepers and accounting and auditing clerks', '338': 'payroll and timekeeping clerks', '343': 'cost and rate clerks (financial records processing)', '344': 'billing clerks and related financial records processing', '345': 'duplication machine operators / office machine operators', '346': 'mail and paper handlers', '347': 'office machine operators, n.e.c.', '348': 'telephone operators', '349': 'other telecom operators', '354': 'postal clerks, excluding mail carriers', '355': 'mail carriers for postal service', '356': 'mail clerks, outside of post office', '357': 'messengers', '359': 'dispatchers', '361': 'inspectors, n.e.c.', '364': 'shipping and receiving clerks', '365': 'stock and inventory clerks', '366': 'meter readers', '368': 'weighers, measurers, and checkers', '373': 'material recording, scheduling, production, planning, and expediting clerks', '375': 'insurance adjusters, examiners, and investigators', '376': 'customer service reps, investigators and adjusters, except insurance', '377': 'eligibility clerks for government programs; social welfare', '378': 'bill and account collectors', '379': 'general office clerks', '383': 'bank tellers', '384': 'proofreaders', '385': 'data entry keyers', '386': 'statistical clerks', '387': \"teacher's aides\", '389': 'administrative support jobs, n.e.c.', '390': 'professional, technical, and kindred workers', '391': 'clerical and kindred workers', '405': 'housekeepers, maids, butlers, stewards, and lodging quarters cleaners', '407': 'private household cleaners and servants', '408': 'private household workers', '415': 'supervisors of guards', '417': 'fire fighting, prevention, and inspection', '418': 'police, detectives, and private investigators', '423': 'other law enforcement; sheriffs, bailiffs, correctional institution officers', '425': 'crossing guards and bridge tenders', '426': 'guards, watchmen, doorkeepers', '427': 'protective services, n.e.c.', '434': 'bartenders', '435': 'waiter/waitress', '436': 'cooks, variously defined', '438': 'food counter and fountain workers', '439': 'kitchen workers', '443': \"waiter's assistant\", '444': 'misc food prep workers', '445': 'dental assistants', '446': 'health aides, except nursing', '447': 'nursing aides, orderlies, and attendants', '448': 'supervisors of cleaning and building service', '453': 'janitors', '454': 'elevator operators', '455': 'pest control occupations', '456': 'supervisors of personal service jobs, n.e.c.', '457': 'barbers', '458': 'hairdressers and cosmetologists', '459': 'recreation facility attendants', '461': 'guides', '462': 'ushers', '463': 'public transportation attendants and inspectors', '464': 'baggage porters', '465': 'welfare service aides', '468': 'child care workers', '469': 'personal service occupations, nec', '473': 'farmers (owners and tenants)', '474': 'horticultural specialty farmers', '475': 'farm managers, except for horticultural farms', '476': 'managers of horticultural specialty farms', '479': 'farm workers', '480': 'farm laborers and farm foreman', '483': 'marine life cultivation workers', '484': 'nursery farming workers', '485': 'supervisors of agricultural occupations', '486': 'gardeners and groundskeepers', '487': 'animal caretakers except on farms', '488': 'graders and sorters of agricultural products', '489': 'inspectors of agricultural products', '496': 'timber, logging, and forestry workers', '498': 'fishers, hunters, and kindred', '503': 'supervisors of mechanics and repairers', '505': 'automobile mechanics', '507': 'bus, truck, and stationary engine mechanics', '508': 'aircraft mechanics', '509': 'small engine repairers', '514': 'auto body repairers', '516': 'heavy equipment and farm equipment mechanics', '518': 'industrial machinery repairers', '519': 'machinery maintenance occupations', '523': 'repairers of industrial electrical equipment', '525': 'repairers of data processing equipment', '526': 'repairers of household appliances and power tools', '527': 'telecom and line installers and repairers', '533': 'repairers of electrical equipment, n.e.c.', '534': 'heating, air conditioning, and refigeration mechanics', '535': 'precision makers, repairers, and smiths', '536': 'locksmiths and safe repairers', '538': 'office machine repairers and mechanics', '539': 'repairers of mechanical controls and valves', '543': 'elevator installers and repairers', '544': 'millwrights', '549': 'mechanics and repairers, n.e.c.', '558': 'supervisors of construction work', '563': 'masons, tilers, and carpet installers', '567': 'carpenters', '573': 'drywall installers', '575': 'electricians', '577': 'electric power installers and repairers', '579': 'painters, construction and maintenance', '583': 'paperhangers', '584': 'plasterers', '585': 'plumbers, pipe fitters, and steamfitters', '588': 'concrete and cement workers', '589': 'glaziers', '593': 'insulation workers', '594': 'paving, surfacing, and tamping equipment operators', '595': 'roofers and slaters', '596': 'sheet metal duct installers', '597': 'structural metal workers', '598': 'drillers of earth', '599': 'construction trades, n.e.c.', '614': 'drillers of oil wells', '615': 'explosives workers', '616': 'miners', '617': 'other mining occupations', '628': 'production supervisors or foremen', '634': 'tool and die makers and die setters', '637': 'machinists', '643': 'boilermakers', '644': 'precision grinders and filers', '645': 'patternmakers and model makers', '646': 'lay-out workers', '649': 'engravers', '653': 'tinsmiths, coppersmiths, and sheet metal workers', '657': 'cabinetmakers and bench carpenters', '658': 'furniture and wood finishers', '659': 'other precision woodworkers', '666': 'dressmakers and seamstresses', '667': 'tailors', '668': 'upholsterers', '669': 'shoe repairers', '674': 'other precision apparel and fabric workers', '675': 'hand molders and shapers, except jewelers', '677': 'optical goods workers', '678': 'dental laboratory and medical appliance technicians', '679': 'bookbinders', '684': 'other precision and craft workers', '686': 'butchers and meat cutters', '687': 'bakers', '688': 'batch food makers', '693': 'adjusters and calibrators', '694': 'water and sewage treatment plant operators', '695': 'power plant operators', '696': 'plant and system operators, stationary engineers', '699': 'other plant and system operators', '703': 'lathe, milling, and turning machine operatives', '706': 'punching and stamping press operatives', '707': 'rollers, roll hands, and finishers of metal', '708': 'drilling and boring machine operators', '709': 'grinding, abrading, buffing, and polishing workers', '713': 'forge and hammer operators', '717': 'fabricating machine operators, n.e.c.', '719': 'molders, and casting machine operators', '723': 'metal platers', '724': 'heat treating equipment operators', '726': 'wood lathe, routing, and planing machine operators', '727': 'sawing machine operators and sawyers', '728': 'shaping and joining machine operator (woodworking)', '729': 'nail and tacking machine operators (woodworking)', '733': 'other woodworking machine operators', '734': 'printing machine operators, n.e.c.', '735': 'photoengravers and lithographers', '736': 'typesetters and compositors', '738': 'winding and twisting textile/apparel operatives', '739': 'knitters, loopers, and toppers textile operatives', '743': 'textile cutting machine operators', '744': 'textile sewing machine operators', '745': 'shoemaking machine operators', '747': 'pressing machine operators (clothing)', '748': 'laundry workers', '749': 'misc textile machine operators', '753': 'cementing and gluing maching operators', '754': 'packers, fillers, and wrappers', '755': 'extruding and forming machine operators', '756': 'mixing and blending machine operatives', '757': 'separating, filtering, and clarifying machine operators', '759': 'painting machine operators', '763': 'roasting and baking machine operators (food)', '764': 'washing, cleaning, and pickling machine operators', '765': 'paper folding machine operators', '766': 'furnace, kiln, and oven operators, apart from food', '768': 'crushing and grinding machine operators', '769': 'slicing and cutting machine operators', '773': 'motion picture projectionists', '774': 'photographic process workers', '779': 'machine operators,', '783': 'welders and metal cutters', '784': 'solderers', '785': 'assemblers of electrical equipment', '789': 'hand painting, coating, and decorating occupations', '796': 'production checkers and inspectors', '799': 'graders and sorters in manufacturing', '803': 'supervisors of motor vehicle transportation', '804': 'truck, delivery, and tractor drivers', '808': 'bus drivers', '809': 'taxi cab drivers and chauffeurs', '813': 'parking lot attendants', '815': 'transport equipment operatives', '823': 'railroad conductors and yardmasters', '824': 'locomotive operators (engineers and firemen)', '825': 'railroad brake, coupler, and switch operators', '829': 'ship crews and marine engineers', '834': 'water transport infrastructure tenders and crossing guards', '844': 'operating engineers of construction equipment', '848': 'crane, derrick, winch, and hoist operators', '853': 'excavating and loading machine operators', '859': 'misc material moving occupations', '865': 'helpers, constructions', '866': 'helpers, surveyors', '869': 'construction laborers', '874': 'production helpers', '875': 'garbage and recyclable material collectors', '876': 'materials movers; stevedores and longshore workers', '877': 'stock handlers', '878': 'machine feeders and offbearers', '883': 'freight, stock, and materials handlers', '885': 'garage and service station related occupations', '887': 'vehicle washers and equipment cleaners', '888': 'packers and packagers by hand', '889': 'laborers outside construction', '890': 'laborers, except farm', '905': 'military', '991': 'unemployed', '999' : 'N/A and unknown'}\n",
    "df = pd.DataFrame({\"codes\":list(three_digits_dict.keys()), \"occupation\":list(three_digits_dict.values())})\n",
    "df.to_csv(\"../output/Codes/3digit_occupations.csv\")\n",
    "\n"
   ]
  },
  {
   "cell_type": "code",
   "execution_count": 21,
   "metadata": {},
   "outputs": [],
   "source": [
    "two_digits_dict = {3  : \"Exec, Admin, and Managerial\",\n",
    "43 : \"Professional Speciality\",\n",
    "203 :\"Health Technicians\",\n",
    "213 : \"Technologists except Health\",\n",
    "303 : \"Admin Support\",\n",
    "405 : \"Private Household Service\",\n",
    "415 : \"Protective Serivces\",\n",
    "434 : \"Service except protective and household\",\n",
    "473 : \"Farm Operators\",\n",
    "479 : \"Other Agriculture\",\n",
    "503 : \"Mechanics and Repairers\",\n",
    "558 : \"Precision Production, incld. Construction\",\n",
    "703 : \"Machinists\",\n",
    "803 : \"Transportation and Material Moving Occupations\",\n",
    "823 : \"Transportation, except motor vehicles\",\n",
    "905 : \"Military\",\n",
    "991 : \"Unemployed\",\n",
    "999 : \"N/A\"}\n",
    "df = pd.DataFrame({\"codes\":list(two_digits_dict.keys()), \"occupation\":list(two_digits_dict.values())})\n",
    "df.to_csv(\"../output/Codes/2digit_occupations.csv\")"
   ]
  },
  {
   "cell_type": "code",
   "execution_count": 22,
   "metadata": {},
   "outputs": [],
   "source": [
    "one_digits_dict = {2 : \"Managerial / Professional\",\n",
    "3 : \"Tech / Sales / Admin\",\n",
    "4 :\"Service\",\n",
    "5 :\"Farm / Forest / Fish\",\n",
    "1 :\"Production / Operators / Repairs\",\n",
    "7 :\"Operatives and Laborers\",\n",
    "6 :\"Military / Unemployed\"}\n",
    "df = pd.DataFrame({\"codes\":list(one_digits_dict.keys()), \"occupation\":list(one_digits_dict.values())})\n",
    "df.to_csv(\"../output/Codes/1digit_occupations.csv\")"
   ]
  },
  {
   "cell_type": "code",
   "execution_count": 23,
   "metadata": {},
   "outputs": [],
   "source": [
    "ind_dict = {2 :\"Agriculture / Mining\",\n",
    "3 :\"Construction\",\n",
    "1 :\"Manufacturing\",\n",
    "4 :\"Transport / Comm / Utility\",\n",
    "5 :\"Retail / Wholesale trade\",\n",
    "6 :\"FIRE\",\n",
    "7 :\"All services\",\n",
    "8 :\"Military\"}\n",
    "df = pd.DataFrame({\"codes\":list(ind_dict.keys()), \"occupation\":list(ind_dict.values())})\n",
    "df.to_csv(\"../output/Codes/1digit_industry.csv\")\n"
   ]
  },
  {
   "cell_type": "code",
   "execution_count": null,
   "metadata": {},
   "outputs": [],
   "source": []
  }
 ],
 "metadata": {
  "kernelspec": {
   "display_name": "Python 3",
   "language": "python",
   "name": "python3"
  },
  "language_info": {
   "codemirror_mode": {
    "name": "ipython",
    "version": 3
   },
   "file_extension": ".py",
   "mimetype": "text/x-python",
   "name": "python",
   "nbconvert_exporter": "python",
   "pygments_lexer": "ipython3",
   "version": "3.7.6"
  }
 },
 "nbformat": 4,
 "nbformat_minor": 4
}
