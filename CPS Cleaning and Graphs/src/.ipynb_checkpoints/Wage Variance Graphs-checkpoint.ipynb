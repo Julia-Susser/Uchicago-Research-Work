{
 "cells": [
  {
   "cell_type": "code",
   "execution_count": null,
   "metadata": {},
   "outputs": [],
   "source": [
    "import pandas as pd\n",
    "import matplotlib.pyplot as plt\n",
    "import numpy as np\n",
    "df = pd.read_csv(\"../output/current_values.csv\", index_col=0)\n",
    "df_two = pd.read_csv(\"../output/current_values2.0.csv\", index_col=0)\n",
    "\n",
    "hf = pd.read_csv(\"../output/Codes/2digit_occupations.csv\", index_col=0)\n",
    "hf = hf.set_index(\"codes\")\n",
    "hf_two = pd.read_csv(\"../output/Codes/2digit_occupations(2.0).csv\", index_col=0)\n",
    "hf_two = hf_two.set_index(\"codes\")\n"
   ]
  },
  {
   "cell_type": "code",
   "execution_count": null,
   "metadata": {},
   "outputs": [],
   "source": [
    "#https://stackoverflow.com/questions/2413522/weighted-standard-deviation-in-numpy\n",
    "import numpy as np\n",
    "grouped = df.groupby(['2digit occupation', \"Year\"])\n",
    "arrays = []\n",
    "for x in hf.index.values.tolist()[:-3]:\n",
    "    for y in df.sort_values(by=\"Year\")[\"Year\"].unique()[:]:\n",
    "        arrays.append(grouped.get_group((x, y))[[\"Year\", \"2digit occupation\", \"Asecwt\", \"Wage\"]].to_numpy())\n",
    "plt.figure(figsize=[20,10])\n",
    "digit = 1.0\n",
    "years = []\n",
    "variances = []\n",
    "for array in arrays:\n",
    "    values = array[:,-1]\n",
    "    weights = array[:,-2]\n",
    "    year = array[0,0]\n",
    "    two = array[0,1]\n",
    "    k = array\n",
    "    average = np.average(values, weights=weights)\n",
    "    #np.var() only takes one arguement values, also it wont take the weighted average\n",
    "    variance = np.average((values-average)**2, weights=weights)\n",
    "    if digit != two:\n",
    "        plt.plot(years,variances, label=hf.loc[digit][\"occupation\"])\n",
    "        digit = two\n",
    "        years = []\n",
    "        variances = []\n",
    "    years.append(year)\n",
    "    variances.append(variance)\n",
    "\n",
    "plt.plot(years,variances, label=hf.loc[digit][\"occupation\"])\n",
    "plt.legend(loc=2)\n",
    "plt.xlabel(\"Year\")\n",
    "plt.ylabel(\"Wage variance (weighted)\")\n",
    "plt.title(\"Wage Variance (weighted) by Year by sector\")\n",
    "plt.savefig('../output/Graphs/wage variance (weighted) by sector.png')"
   ]
  },
  {
   "cell_type": "code",
   "execution_count": null,
   "metadata": {},
   "outputs": [],
   "source": [
    "#https://stackoverflow.com/questions/2413522/weighted-standard-deviation-in-numpy\n",
    "import numpy as np\n",
    "grouped = df2.groupby(['2digit occupation', \"Year\"])\n",
    "arrays = []\n",
    "for x in hf2.index.values.tolist()[:-3]:\n",
    "    for y in df.sort_values(by=\"Year\")[\"Year\"].unique()[:]:\n",
    "        arrays.append(grouped.get_group((x, y))[[\"Year\", \"2digit occupation\", \"Asecwt\", \"Wage\"]].to_numpy())\n",
    "plt.figure(figsize=[20,10])\n",
    "digit = 3.0\n",
    "years = []\n",
    "variances = []\n",
    "for array in arrays:\n",
    "    values = array[:,-1]\n",
    "    weights = array[:,-2]\n",
    "    year = array[0,0]\n",
    "    two = array[0,1]\n",
    "    k = array\n",
    "    average = np.average(values, weights=weights)\n",
    "    #np.var() only takes one arguement values, also it wont take the weighted average\n",
    "    variance = np.average((values-average)**2, weights=weights)\n",
    "    if digit != two:\n",
    "        plt.plot(years,variances, label=hf2.loc[digit][\"occupation\"])\n",
    "        digit = two\n",
    "        years = []\n",
    "        variances = []\n",
    "    years.append(year)\n",
    "    variances.append(variance)\n",
    "\n",
    "plt.plot(years,variances, label=hf2.loc[digit][\"occupation\"])\n",
    "plt.legend(loc=2)\n",
    "plt.xlabel(\"Year\")\n",
    "plt.ylabel(\"Wage variance (weighted)\")\n",
    "plt.title(\"Wage Variance (weighted) by Year by sector\")\n",
    "plt.savefig('../output/Graphs/wage variance (weighted) by sector.png')"
   ]
  }
 ],
 "metadata": {
  "kernelspec": {
   "display_name": "Python 3",
   "language": "python",
   "name": "python3"
  },
  "language_info": {
   "codemirror_mode": {
    "name": "ipython",
    "version": 3
   },
   "file_extension": ".py",
   "mimetype": "text/x-python",
   "name": "python",
   "nbconvert_exporter": "python",
   "pygments_lexer": "ipython3",
   "version": "3.7.6"
  }
 },
 "nbformat": 4,
 "nbformat_minor": 4
}
