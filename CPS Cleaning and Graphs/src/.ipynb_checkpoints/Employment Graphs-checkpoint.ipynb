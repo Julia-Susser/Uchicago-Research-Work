{
 "cells": [
  {
   "cell_type": "code",
   "execution_count": null,
   "metadata": {},
   "outputs": [],
   "source": [
    "import pandas as pd\n",
    "import matplotlib.pyplot as plt\n",
    "import numpy as np\n",
    "df = pd.read_csv(\"../output/current_values.csv\", index_col=0)\n",
    "df_two = pd.read_csv(\"../output/current_values2.0.csv\", index_col=0)\n",
    "\n",
    "hf = pd.read_csv(\"../output/Codes/2digit_occupations.csv\", index_col=0)\n",
    "hf = hf.set_index(\"codes\")\n",
    "hf_two = pd.read_csv(\"../output/Codes/2digit_occupations(2.0).csv\", index_col=0)\n",
    "hf_two = hf_two.set_index(\"codes\")\n"
   ]
  },
  {
   "cell_type": "code",
   "execution_count": null,
   "metadata": {},
   "outputs": [],
   "source": [
    "#Year and number of people employed in certain field\n",
    "years = []\n",
    "employments = []\n",
    "digit = 1\n",
    "grouped = df.groupby(['2digit occupation', 'Year']).count()[\"3digit occupation\"].reset_index()\n",
    "grouped.columns = [\"2digit occupation\", \"Year\", \"employment\"]\n",
    "plt.figure(figsize=(10,10))\n",
    "for x in range(len(grouped)):\n",
    "    two = grouped.iloc[x][0]\n",
    "    year = grouped.iloc[x][1]\n",
    "    employment = grouped.iloc[x][2]\n",
    "    if digit != two:\n",
    "        plt.plot(years, employments, label=hf.loc[digit][\"occupation\"])\n",
    "        digit = two\n",
    "        years = []\n",
    "        employments = []\n",
    "    years.append(year)\n",
    "    employments.append(employment)\n",
    "plt.plot(years, employments, label=hf.loc[digit][\"occupation\"])\n",
    "plt.xlabel(\"Year\")\n",
    "plt.ylabel(\"# of people working in sector\")\n",
    "plt.title(\"People working in sectors\")\n",
    "plt.legend()\n",
    "plt.savefig('../output/Graphs/#of people employed in sectors.png')"
   ]
  },
  {
   "cell_type": "code",
   "execution_count": null,
   "metadata": {},
   "outputs": [],
   "source": [
    "#Year and percent of people employed in certain field out of all of the people working that year\n",
    "grouped = df.groupby(['2digit occupation', 'Year']).count()[\"3digit occupation\"].reset_index()\n",
    "grouped.columns = [\"2digit occupation\", \"Year\", \"employment\"]\n",
    "years_grouped = df.groupby('Year').count()[\"3digit occupation\"].reset_index()\n",
    "years_grouped = years_grouped.rename(columns={\"3digit occupation\": \"employed_num\"})\n",
    "grouped = pd.merge(grouped, years_grouped, on='Year', how='left')\n",
    "grouped[\"employment_percent\"] = grouped[\"employment\"] / grouped[\"employed_num\"] * 100\n",
    "grouped = grouped.drop(columns = [\"employment\", \"employed_num\"])\n",
    "years = []\n",
    "employments = []\n",
    "digit = 1\n",
    "plt.figure(figsize=(20,10))\n",
    "for x in range(len(grouped)):\n",
    "    two = grouped.iloc[x][0]\n",
    "    year = grouped.iloc[x][1]\n",
    "    employment_percent = grouped.iloc[x][2]\n",
    "    if digit != two:\n",
    "        plt.plot(years, employments, label=hf.loc[digit][\"occupation\"])\n",
    "        digit = two\n",
    "        years = []\n",
    "        employments = []\n",
    "    years.append(year)\n",
    "    employments.append(employment_percent)\n",
    "plt.plot(years, employments, label=hf.loc[digit][\"occupation\"])\n",
    "plt.xlabel(\"Year\")\n",
    "plt.ylabel(\"Percent of people employed in field from total employed people that year\")\n",
    "plt.title(\"Percentage of people employed in different fields by year\")\n",
    "plt.legend(loc=2)\n",
    "plt.savefig('../output/Graphs/percent of people employed in sectors.png')"
   ]
  }
 ],
 "metadata": {
  "kernelspec": {
   "display_name": "Python 3",
   "language": "python",
   "name": "python3"
  },
  "language_info": {
   "codemirror_mode": {
    "name": "ipython",
    "version": 3
   },
   "file_extension": ".py",
   "mimetype": "text/x-python",
   "name": "python",
   "nbconvert_exporter": "python",
   "pygments_lexer": "ipython3",
   "version": "3.7.6"
  }
 },
 "nbformat": 4,
 "nbformat_minor": 4
}
