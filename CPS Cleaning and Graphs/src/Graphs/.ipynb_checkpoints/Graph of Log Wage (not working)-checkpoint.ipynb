{
 "cells": [
  {
   "cell_type": "code",
   "execution_count": null,
   "metadata": {},
   "outputs": [],
   "source": [
    "import pandas as pd\n",
    "import matplotlib.pyplot as plt\n",
    "import numpy as np\n",
    "df = pd.read_csv(\"../../output/current_values.csv\", index_col=0)\n",
    "\n",
    "\n",
    "hf = pd.read_csv(\"../../output/Codes/2digit_occupations.csv\", index_col=0)\n",
    "hf = hf.set_index(\"codes\")\n",
    "cf = pd.read_csv(\"../../output/Codes/1digit_occupations.csv\", index_col=0)\n",
    "cf = cf.set_index(\"codes\")\n"
   ]
  },
  {
   "cell_type": "code",
   "execution_count": null,
   "metadata": {},
   "outputs": [],
   "source": [
    "import numpy as np\n",
    "import pandas as pd\n",
    "from pandas._libs.lib import is_integer\n",
    "\n",
    "def weighted_qcut(values, weights, q, **kwargs):\n",
    "    'Return weighted quantile cuts from a given series, values.'\n",
    "    if is_integer(q):\n",
    "        quantiles = np.linspace(0, 1, q + 1)\n",
    "    else:\n",
    "        quantiles = q\n",
    "    order = weights.iloc[values.argsort()].cumsum()\n",
    "    bins = pd.cut(order / order.iloc[-1], quantiles, **kwargs)\n",
    "    return bins.sort_index()\n",
    "\n",
    "sf['weighted_sp'] = pd.qcut(sf[\"log_1980\"], 100, labels=False)\n",
    "\n",
    "\n"
   ]
  },
  {
   "cell_type": "code",
   "execution_count": null,
   "metadata": {},
   "outputs": [],
   "source": [
    "p={}\n",
    "u=[]\n",
    "grouped = df.groupby([\"Year\",\"3digit occupation\"])\n",
    "for x in df[\"3digit occupation\"].sort_values().unique():\n",
    "    try:\n",
    "        g = grouped.get_group((1980,x))\n",
    "    except KeyError:\n",
    "        continue\n",
    "    l = g[\"Asecwt\"].sum()\n",
    "    g['weighted_wage']= g[\"Wage\"]*g[\"Asecwt\"]/l\n",
    "    p[x] = g[\"weighted_wage\"].sum()\n",
    "    u.append(l)\n",
    "i = pd.DataFrame({\"occ\":list(p.keys()), \"mean_wage\":list(p.values()), \"asecwt\":u})\n"
   ]
  },
  {
   "cell_type": "code",
   "execution_count": null,
   "metadata": {},
   "outputs": [],
   "source": [
    "#df = df.join(kf, lsuffix='_caller', rsuffix='_other')\n",
    "def graph(frame):\n",
    "    arrays=[]\n",
    "    sf = pd.DataFrame()\n",
    "    grouped = frame.groupby('3digit occupation')\n",
    "    for x in i[\"occ\"].unique():\n",
    "        try:\n",
    "            arrays.append(grouped.get_group((x))[[\"3digit occupation\",\"Wage\", \"Asecwt\"]].to_numpy())\n",
    "        except:\n",
    "            continue\n",
    "            \n",
    "    for array in arrays:\n",
    "        p = array[0,0]\n",
    "        values = array[:,1]\n",
    "        weights = array[:,2]\n",
    "        loggy = np.log(np.average(values,weights=weights))\n",
    "        mean = np.average(values,weights=weights)\n",
    "        sf = sf.append({\"occ\":p,\"loggy\":loggy, \"mean_wage\":mean},ignore_index=True)\n",
    "    \n",
    "    return sf\n",
    "kf = df[df[\"Year\"]==1980]    \n",
    "hf = df[df[\"Year\"]==2010] \n",
    "sf = graph(kf)\n",
    "sf = sf.rename({\"loggy\":\"log_1980\"},axis=1)\n",
    "lf = graph(hf)\n",
    "lf = lf.rename({\"loggy\":\"log_2005\"},axis=1)"
   ]
  },
  {
   "cell_type": "code",
   "execution_count": null,
   "metadata": {},
   "outputs": [],
   "source": [
    "v = pd.merge(sf,lf,on=\"occ\")\n",
    "v[\"log\"]=v[\"log_2005\"]-v[\"log_1980\"]\n",
    "\n",
    "#v = pd.merge(v,i,on=\"occ\")\n",
    "v = v.drop([\"occ\",\"mean_wage_x\",\"mean_wage_y\",\"log_1980\",\"log_2005\"],axis=1)\n",
    "#v = v.groupby(\"weighted_sp\")[\"log\"].mean().reset_index()\n",
    "t = v.sort_values(by=\"weighted_sp\")\n",
    "v = v.sort_values(by=\"weighted_sp\").to_numpy()\n",
    "#v[v[\"log\"]<0]\n",
    "t"
   ]
  },
  {
   "cell_type": "code",
   "execution_count": null,
   "metadata": {},
   "outputs": [],
   "source": [
    "plt.plot(v[:,0],v[:,-1])\n"
   ]
  }
 ],
 "metadata": {
  "kernelspec": {
   "display_name": "Python 3",
   "language": "python",
   "name": "python3"
  },
  "language_info": {
   "codemirror_mode": {
    "name": "ipython",
    "version": 3
   },
   "file_extension": ".py",
   "mimetype": "text/x-python",
   "name": "python",
   "nbconvert_exporter": "python",
   "pygments_lexer": "ipython3",
   "version": "3.7.6"
  }
 },
 "nbformat": 4,
 "nbformat_minor": 4
}
