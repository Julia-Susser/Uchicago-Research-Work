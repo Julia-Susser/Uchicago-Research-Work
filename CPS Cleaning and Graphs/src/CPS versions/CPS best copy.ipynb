{
 "cells": [
  {
   "cell_type": "code",
   "execution_count": 1,
   "metadata": {},
   "outputs": [],
   "source": [
    "import numpy as np\n",
    "import pandas as pd\n",
    "\n",
    "#after testing replace StringIO(temp) to filename\n",
    "df = pd.read_csv(\"../../input/cps_00054.csv\")"
   ]
  },
  {
   "cell_type": "code",
   "execution_count": 2,
   "metadata": {},
   "outputs": [],
   "source": [
    "# Sample Selection - HPV Sample C\n",
    "# --------------------------------\n",
    "\n",
    "df[\"YEAR\"] = df[\"year\".upper()] - 1 # survey questions ask about 'last year'\n",
    "\n",
    "# Prime age\n",
    "df = df[df[\"AGE\"]>=25] # Drop if if age < 25\n",
    "df = df[df[\"AGE\"]<=60] # drop if age > 60\n",
    "\n",
    "# Employed at firm\n",
    "df = df[ (df['CLASSWLY'] == 22) ]  # drop self-employed, government workers\n",
    "     \n",
    "# Drop if missing values    \n",
    "df = df.dropna(subset=[\"OCCLY\", \"IND90LY\", \"AGE\", 'CLASSWLY', 'RACE', 'INCWAGE', 'WKSWORK1', 'UHRSWORKLY', 'EDUC', \"YEAR\"])\n",
    "df = df.rename(columns={\"OCC90LY\":\"original\"})\n",
    "df = df[df[\"INCWAGE\"] < 99999998] # Topcoded income\n"
   ]
  },
  {
   "cell_type": "code",
   "execution_count": 3,
   "metadata": {},
   "outputs": [],
   "source": [
    "\n",
    "        \n",
    "df['YEAR_BINS'] = pd.cut(x=df['YEAR'], bins=[1975, 1981, 1991, 2003, 2010], labels=[1970, 1980, 1990, 2000])\n",
    "\n",
    "df = df.dropna(subset=[\"YEAR_BINS\"])\n",
    "codes_by_year = pd.DataFrame()\n",
    "for x in df[\"YEAR_BINS\"].sort_values().unique():\n",
    "    hf = pd.read_stata(\"../../../../3_Notes/deming_xwalk_occ/occ\"+str(x)+\"_occ1990dd.dta\")\n",
    "    hf = hf.rename(columns={\"occ1990dd\":\"OCC90LY\", \"occ\":\"OCCLY\", \"occ70\":\"OCCLY\", \"occ2010\":\"OCCLY\"})\n",
    "    if x==2000:\n",
    "        hf['OCCLY'] = hf['OCCLY'] * 10\n",
    "    hf[\"YEAR_BINS\"] = x\n",
    "    codes_by_year = codes_by_year.append(hf).reset_index(drop = True)\n",
    "\n",
    "df = pd.merge(df,codes_by_year, on=['OCCLY','YEAR_BINS'], how='left', validate=\"m:1\")\n",
    "\n",
    "\n"
   ]
  },
  {
   "cell_type": "code",
   "execution_count": 4,
   "metadata": {},
   "outputs": [],
   "source": [
    "\n",
    "df=df[df[\"OCC90LY\"].notnull()]"
   ]
  },
  {
   "cell_type": "code",
   "execution_count": 5,
   "metadata": {},
   "outputs": [],
   "source": [
    "# Variables\n",
    "# --------------------------------\n",
    "\n",
    "# Sex\n",
    "df[\"FEMALE\"] = df[\"SEX\"].replace(1, 0)\n",
    "df[\"FEMALE\"] = df[\"FEMALE\"].replace(2, 1)\n",
    "df[\"MALE\"] = df[\"SEX\"].replace(2  , 0)\n",
    "\n",
    "# Big firm has 1000+ employees (=9, 500-999 = 8)\n",
    "df[\"big_firm\"]  = df[\"firmsize\".upper()]\n",
    "for x in range(9):\n",
    "    df[\"big_firm\"] = df[\"big_firm\"].replace(x,0)\n",
    "\n",
    "df[\"big_firm\"] = df[\"big_firm\"].replace(9,1)\n",
    "df['big_firm'].fillna(0, inplace =True)\n",
    "\n",
    "# Race \n",
    "for x in df[\"RACE\"].unique():\n",
    "    if x == 100:\n",
    "        df[\"RACE\"] = df[\"RACE\"].replace(x,1)\n",
    "    else:\n",
    "        df[\"RACE\"] = df[\"RACE\"].replace(x,0)\n",
    "        \n",
    "        \n",
    "\n",
    "# Occupation\n",
    "df['2digit occupation'] = pd.cut(x=df['OCC90LY'], bins=[0,22, 37,200, 235,283,389,408,427,444,447,455,472,498,549,599,617,699,799,890], labels=[1,2,3,4,5,6,7,8,9,10,11,12,13,14,15,16,17,18,19], right=False)\n",
    "df[\"1digit occupation\"] = pd.cut(x=df[\"OCC90LY\"], bins=[0,199,389,472,498,699,889], labels=[1,2,3,4,5,6])\n",
    "\n",
    "# Industry\n",
    "df[\"1digit industry\"]   = pd.cut(x=df[\"IND90LY\"], bins=[0,200,391, 473, 498, 890,1000], labels=[2,3,4,5,1,6])\n",
    "\n",
    "# Education \n",
    "kf = pd.read_stata(\"../../input/educ_years_school.dta\")\n",
    "\n",
    "if \"years_school\" in df:\n",
    "    df = df.drop(columns=[\"years_school\"])\n",
    "    \n",
    "educ_df = kf.rename(columns={\"educ\":\"EDUC\"})\n",
    "df = pd.merge(df, educ_df, on='EDUC', how='right') # merge in years of schooling\n",
    "df = df.rename(columns={\"years_school_y\":\"years_school\"})\n",
    "\n",
    "# Experience\n",
    "df[\"exp\"]  = (df[\"AGE\"] - np.maximum(df[\"years_school\"], 12)) - 6\n",
    "df[\"exp2\"] = (df[\"exp\"] ** 2 )\n",
    "df = df[df[\"exp\"] >= 0] \n",
    "\n",
    "# Hours\n",
    "df[\"annual_hours\"] = df[\"WKSWORK1\"] * df[\"UHRSWORKLY\"] \n",
    "df[\"annual_hours\"] = df[df[\"annual_hours\"]>=260] # drop if worked less than a month of 8hr days\n",
    "\n",
    "# Drop if report income, but no hours.\n",
    "indexNames = df[(df['INCWAGE'] > 0) & (df['annual_hours'] == 0)].index\n",
    "df.drop(indexNames , inplace=True)\n",
    "\n",
    "\n",
    "# Earnings\n",
    "df['inc_self'] = 0 # df['OINCBUS'] + df['OINCFARM']    \n",
    "df['earnings'] = (2/3) * df['inc_self'] + df['INCWAGE'] # 2/3 business income + labor income"
   ]
  },
  {
   "cell_type": "code",
   "execution_count": 6,
   "metadata": {},
   "outputs": [],
   "source": [
    "# Adjust for inflation\n",
    "# --------------------------------\n",
    "\n",
    "df = df.rename(columns={\"YEAR\":\"year\"})\n",
    "\n",
    "#Merge in cpi data\n",
    "cpi_df = pd.read_csv(\"../../output/revised_CPI.csv\") \n",
    "df     = pd.merge(df, cpi_df, on='year', how='right')\n",
    "\n",
    "# Merge in fedminwage data\n",
    "fedminwage_df = pd.read_csv(\"../../input/fedminwage.csv\") \n",
    "df = pd.merge(df, fedminwage_df, on='year', how='right') # real_cpis is cpi / cpi[2000]\n",
    "\n",
    "# Normalize to 2000-dollars\n",
    "df[\"earnings\"]   = df[\"earnings\"] / df[\"real_cpis\"]\n",
    "df[\"fedminwage\"] = df[\"fedminwage\"] / df[\"real_cpis\"]\n",
    "\n",
    "# Compute implied hourly wage\n",
    "df[\"Wage\"] = df[\"earnings\"] / df[\"annual_hours\"]\n",
    "\n",
    "# Drop if wage is less than 1/2 fedminwage\n",
    "df = df.query(\"fedminwage * .5 <= Wage\")# same thing: df[(df['Wage'] > df[\"fedminwage\"])]"
   ]
  },
  {
   "cell_type": "code",
   "execution_count": 7,
   "metadata": {},
   "outputs": [
    {
     "ename": "FileNotFoundError",
     "evalue": "[Errno 2] No such file or directory: '../output/current_values2.csv'",
     "output_type": "error",
     "traceback": [
      "\u001b[0;31m---------------------------------------------------------------------------\u001b[0m",
      "\u001b[0;31mFileNotFoundError\u001b[0m                         Traceback (most recent call last)",
      "\u001b[0;32m<ipython-input-7-5d0af27bca5b>\u001b[0m in \u001b[0;36m<module>\u001b[0;34m\u001b[0m\n\u001b[1;32m     16\u001b[0m \u001b[0;34m\u001b[0m\u001b[0m\n\u001b[1;32m     17\u001b[0m \u001b[0;31m# Save\u001b[0m\u001b[0;34m\u001b[0m\u001b[0;34m\u001b[0m\u001b[0;34m\u001b[0m\u001b[0m\n\u001b[0;32m---> 18\u001b[0;31m \u001b[0mdf\u001b[0m\u001b[0;34m.\u001b[0m\u001b[0mto_csv\u001b[0m\u001b[0;34m(\u001b[0m\u001b[0;34m\"../output/current_values2.csv\"\u001b[0m\u001b[0;34m)\u001b[0m\u001b[0;34m\u001b[0m\u001b[0;34m\u001b[0m\u001b[0m\n\u001b[0m",
      "\u001b[0;32m~/opt/anaconda3/lib/python3.7/site-packages/pandas/core/generic.py\u001b[0m in \u001b[0;36mto_csv\u001b[0;34m(self, path_or_buf, sep, na_rep, float_format, columns, header, index, index_label, mode, encoding, compression, quoting, quotechar, line_terminator, chunksize, tupleize_cols, date_format, doublequote, escapechar, decimal)\u001b[0m\n\u001b[1;32m   3018\u001b[0m                                  \u001b[0mdoublequote\u001b[0m\u001b[0;34m=\u001b[0m\u001b[0mdoublequote\u001b[0m\u001b[0;34m,\u001b[0m\u001b[0;34m\u001b[0m\u001b[0;34m\u001b[0m\u001b[0m\n\u001b[1;32m   3019\u001b[0m                                  escapechar=escapechar, decimal=decimal)\n\u001b[0;32m-> 3020\u001b[0;31m         \u001b[0mformatter\u001b[0m\u001b[0;34m.\u001b[0m\u001b[0msave\u001b[0m\u001b[0;34m(\u001b[0m\u001b[0;34m)\u001b[0m\u001b[0;34m\u001b[0m\u001b[0;34m\u001b[0m\u001b[0m\n\u001b[0m\u001b[1;32m   3021\u001b[0m \u001b[0;34m\u001b[0m\u001b[0m\n\u001b[1;32m   3022\u001b[0m         \u001b[0;32mif\u001b[0m \u001b[0mpath_or_buf\u001b[0m \u001b[0;32mis\u001b[0m \u001b[0;32mNone\u001b[0m\u001b[0;34m:\u001b[0m\u001b[0;34m\u001b[0m\u001b[0;34m\u001b[0m\u001b[0m\n",
      "\u001b[0;32m~/opt/anaconda3/lib/python3.7/site-packages/pandas/io/formats/csvs.py\u001b[0m in \u001b[0;36msave\u001b[0;34m(self)\u001b[0m\n\u001b[1;32m    155\u001b[0m             f, handles = _get_handle(self.path_or_buf, self.mode,\n\u001b[1;32m    156\u001b[0m                                      \u001b[0mencoding\u001b[0m\u001b[0;34m=\u001b[0m\u001b[0mself\u001b[0m\u001b[0;34m.\u001b[0m\u001b[0mencoding\u001b[0m\u001b[0;34m,\u001b[0m\u001b[0;34m\u001b[0m\u001b[0;34m\u001b[0m\u001b[0m\n\u001b[0;32m--> 157\u001b[0;31m                                      compression=self.compression)\n\u001b[0m\u001b[1;32m    158\u001b[0m             \u001b[0mclose\u001b[0m \u001b[0;34m=\u001b[0m \u001b[0;32mTrue\u001b[0m\u001b[0;34m\u001b[0m\u001b[0;34m\u001b[0m\u001b[0m\n\u001b[1;32m    159\u001b[0m \u001b[0;34m\u001b[0m\u001b[0m\n",
      "\u001b[0;32m~/opt/anaconda3/lib/python3.7/site-packages/pandas/io/common.py\u001b[0m in \u001b[0;36m_get_handle\u001b[0;34m(path_or_buf, mode, encoding, compression, memory_map, is_text)\u001b[0m\n\u001b[1;32m    422\u001b[0m         \u001b[0;32melif\u001b[0m \u001b[0mencoding\u001b[0m\u001b[0;34m:\u001b[0m\u001b[0;34m\u001b[0m\u001b[0;34m\u001b[0m\u001b[0m\n\u001b[1;32m    423\u001b[0m             \u001b[0;31m# Python 3 and encoding\u001b[0m\u001b[0;34m\u001b[0m\u001b[0;34m\u001b[0m\u001b[0;34m\u001b[0m\u001b[0m\n\u001b[0;32m--> 424\u001b[0;31m             \u001b[0mf\u001b[0m \u001b[0;34m=\u001b[0m \u001b[0mopen\u001b[0m\u001b[0;34m(\u001b[0m\u001b[0mpath_or_buf\u001b[0m\u001b[0;34m,\u001b[0m \u001b[0mmode\u001b[0m\u001b[0;34m,\u001b[0m \u001b[0mencoding\u001b[0m\u001b[0;34m=\u001b[0m\u001b[0mencoding\u001b[0m\u001b[0;34m,\u001b[0m \u001b[0mnewline\u001b[0m\u001b[0;34m=\u001b[0m\u001b[0;34m\"\"\u001b[0m\u001b[0;34m)\u001b[0m\u001b[0;34m\u001b[0m\u001b[0;34m\u001b[0m\u001b[0m\n\u001b[0m\u001b[1;32m    425\u001b[0m         \u001b[0;32melif\u001b[0m \u001b[0mis_text\u001b[0m\u001b[0;34m:\u001b[0m\u001b[0;34m\u001b[0m\u001b[0;34m\u001b[0m\u001b[0m\n\u001b[1;32m    426\u001b[0m             \u001b[0;31m# Python 3 and no explicit encoding\u001b[0m\u001b[0;34m\u001b[0m\u001b[0;34m\u001b[0m\u001b[0;34m\u001b[0m\u001b[0m\n",
      "\u001b[0;31mFileNotFoundError\u001b[0m: [Errno 2] No such file or directory: '../output/current_values2.csv'"
     ]
    }
   ],
   "source": [
    "# Clean up\n",
    "# --------------------------------\n",
    "df = df.rename(columns={'occ90ly'.upper(): \"3digit occupation\", \"RACE\":\"White\"})\n",
    "\n",
    "k = {}\n",
    "for x in df.columns:\n",
    "    k[x] = x.capitalize()\n",
    "df = df.rename(columns=k)\n",
    "columnsTitles = ['Year', '3digit occupation', '2digit occupation', '1digit occupation', 'Age', 'Asecwt', 'Exp','Male', 'Female','White', 'Exp2','1digit industry', 'Big_firm', \"Wage\"]\n",
    "df = df.reindex(columns=columnsTitles)\n",
    "df = df.reset_index(drop=True)\n",
    "\n",
    "df[df.columns[:-1]] = df[df.columns[:-1]].astype('int64')\n",
    "df[[\"Wage\"]] = df[\"Wage\"].astype('float64')\n",
    "df[\"Wage\"]   = df[\"Wage\"].round(2)\n",
    "\n",
    "# Save\n",
    "df.to_csv(\"../output/current_values2.csv\")"
   ]
  },
  {
   "cell_type": "code",
   "execution_count": 16,
   "metadata": {},
   "outputs": [
    {
     "data": {
      "text/plain": [
       "2000    61555\n",
       "2001    61308\n",
       "2006    57456\n",
       "2007    57402\n",
       "2005    57389\n",
       "2008    57352\n",
       "2004    57316\n",
       "2009    55509\n",
       "2010    47262\n",
       "1990    41261\n",
       "1989    40761\n",
       "1992    39739\n",
       "1994    39252\n",
       "1987    38821\n",
       "1980    38450\n",
       "1993    38423\n",
       "1986    38031\n",
       "1979    37843\n",
       "1985    37765\n",
       "1999    37664\n",
       "1991    37624\n",
       "1984    37165\n",
       "1998    36966\n",
       "1988    36515\n",
       "1997    36417\n",
       "1996    35858\n",
       "1983    35337\n",
       "1982    35172\n",
       "1981    35111\n",
       "1995    34968\n",
       "1978    31926\n",
       "1977    31115\n",
       "Name: Year, dtype: int64"
      ]
     },
     "execution_count": 16,
     "metadata": {},
     "output_type": "execute_result"
    }
   ],
   "source": [
    "#k = df[df['OCC90LY'].isnull()].groupby(\"YEAR_BINS\")\n",
    "#original is the original occ1990 codes from datatframe, when first imported\n",
    "\n",
    "\n",
    "\n",
    "df[\"Year\"].value_counts()"
   ]
  },
  {
   "cell_type": "code",
   "execution_count": 18,
   "metadata": {},
   "outputs": [
    {
     "data": {
      "text/plain": [
       "1364733"
      ]
     },
     "execution_count": 18,
     "metadata": {},
     "output_type": "execute_result"
    }
   ],
   "source": [
    "len(df)\n",
    "\n",
    "\n",
    "\n",
    "\n",
    "\n",
    "\n"
   ]
  },
  {
   "cell_type": "code",
   "execution_count": null,
   "metadata": {},
   "outputs": [],
   "source": []
  }
 ],
 "metadata": {
  "kernelspec": {
   "display_name": "Python 3",
   "language": "python",
   "name": "python3"
  },
  "language_info": {
   "codemirror_mode": {
    "name": "ipython",
    "version": 3
   },
   "file_extension": ".py",
   "mimetype": "text/x-python",
   "name": "python",
   "nbconvert_exporter": "python",
   "pygments_lexer": "ipython3",
   "version": "3.7.6"
  }
 },
 "nbformat": 4,
 "nbformat_minor": 4
}
